{
  "nbformat": 4,
  "nbformat_minor": 0,
  "metadata": {
    "colab": {
      "name": "Restaurant Recommendation Engine.ipynb",
      "provenance": [],
      "mount_file_id": "14KAJvvV6xKc5onJ6vcAfidSvXhlhd6Nq",
      "authorship_tag": "ABX9TyOM19ASia9AXrH4wuUjF7og",
      "include_colab_link": true
    },
    "kernelspec": {
      "name": "python3",
      "display_name": "Python 3"
    },
    "language_info": {
      "name": "python"
    }
  },
  "cells": [
    {
      "cell_type": "markdown",
      "metadata": {
        "id": "view-in-github",
        "colab_type": "text"
      },
      "source": [
        "<a href=\"https://colab.research.google.com/github/wilsonkw97/WhatToEat/blob/main/Restaurant_Recommendation_Engine.ipynb\" target=\"_parent\"><img src=\"https://colab.research.google.com/assets/colab-badge.svg\" alt=\"Open In Colab\"/></a>"
      ]
    },
    {
      "cell_type": "markdown",
      "source": [
        "# **A Restaurant Recommendation Engine using Collaborative Filtering**\n",
        "\n",
        "Use case of UCI Machine Learning dataset by trying out Collaborative Filtering to recommend people places to eat based on their preferences.\n",
        "\n",
        "Link to data repository: https://www.kaggle.com/uciml/restaurant-data-with-consumer-ratings"
      ],
      "metadata": {
        "id": "YFJZTr7dvmjF"
      }
    },
    {
      "cell_type": "code",
      "source": [
        "from google.colab import drive\n",
        "drive.mount('/content/drive')"
      ],
      "metadata": {
        "colab": {
          "base_uri": "https://localhost:8080/"
        },
        "id": "ll6bjeBsSybv",
        "outputId": "0948710d-6bca-45b8-9a79-3f8b7d540cfe"
      },
      "execution_count": null,
      "outputs": [
        {
          "output_type": "stream",
          "name": "stdout",
          "text": [
            "Drive already mounted at /content/drive; to attempt to forcibly remount, call drive.mount(\"/content/drive\", force_remount=True).\n"
          ]
        }
      ]
    },
    {
      "cell_type": "code",
      "source": [
        "!pip install stop_words"
      ],
      "metadata": {
        "colab": {
          "base_uri": "https://localhost:8080/"
        },
        "id": "QyRWTrXUuSeH",
        "outputId": "beabce0f-2f10-400f-933c-80e5d59abec2"
      },
      "execution_count": null,
      "outputs": [
        {
          "output_type": "stream",
          "name": "stdout",
          "text": [
            "Requirement already satisfied: stop_words in /usr/local/lib/python3.7/dist-packages (2018.7.23)\n"
          ]
        }
      ]
    },
    {
      "cell_type": "code",
      "execution_count": null,
      "metadata": {
        "id": "4yL2oU7gqdX1"
      },
      "outputs": [],
      "source": [
        "import numpy as np \n",
        "import pandas as pd"
      ]
    },
    {
      "cell_type": "code",
      "source": [
        "rating_df = pd.read_csv(\"/content/drive/MyDrive/data/rating_final.csv\")"
      ],
      "metadata": {
        "id": "DeKDCXgCt8dn"
      },
      "execution_count": null,
      "outputs": []
    },
    {
      "cell_type": "code",
      "source": [
        "rating_df.head()"
      ],
      "metadata": {
        "colab": {
          "base_uri": "https://localhost:8080/",
          "height": 206
        },
        "id": "vHRT2p72vUfV",
        "outputId": "53d9ea02-ebc1-4d54-d8b4-d9a1bbf67327"
      },
      "execution_count": null,
      "outputs": [
        {
          "output_type": "execute_result",
          "data": {
            "text/html": [
              "\n",
              "  <div id=\"df-0fc566ad-edd5-455b-b385-196d2f5227f3\">\n",
              "    <div class=\"colab-df-container\">\n",
              "      <div>\n",
              "<style scoped>\n",
              "    .dataframe tbody tr th:only-of-type {\n",
              "        vertical-align: middle;\n",
              "    }\n",
              "\n",
              "    .dataframe tbody tr th {\n",
              "        vertical-align: top;\n",
              "    }\n",
              "\n",
              "    .dataframe thead th {\n",
              "        text-align: right;\n",
              "    }\n",
              "</style>\n",
              "<table border=\"1\" class=\"dataframe\">\n",
              "  <thead>\n",
              "    <tr style=\"text-align: right;\">\n",
              "      <th></th>\n",
              "      <th>userID</th>\n",
              "      <th>placeID</th>\n",
              "      <th>rating</th>\n",
              "      <th>food_rating</th>\n",
              "      <th>service_rating</th>\n",
              "    </tr>\n",
              "  </thead>\n",
              "  <tbody>\n",
              "    <tr>\n",
              "      <th>0</th>\n",
              "      <td>U1077</td>\n",
              "      <td>135085</td>\n",
              "      <td>2</td>\n",
              "      <td>2</td>\n",
              "      <td>2</td>\n",
              "    </tr>\n",
              "    <tr>\n",
              "      <th>1</th>\n",
              "      <td>U1077</td>\n",
              "      <td>135038</td>\n",
              "      <td>2</td>\n",
              "      <td>2</td>\n",
              "      <td>1</td>\n",
              "    </tr>\n",
              "    <tr>\n",
              "      <th>2</th>\n",
              "      <td>U1077</td>\n",
              "      <td>132825</td>\n",
              "      <td>2</td>\n",
              "      <td>2</td>\n",
              "      <td>2</td>\n",
              "    </tr>\n",
              "    <tr>\n",
              "      <th>3</th>\n",
              "      <td>U1077</td>\n",
              "      <td>135060</td>\n",
              "      <td>1</td>\n",
              "      <td>2</td>\n",
              "      <td>2</td>\n",
              "    </tr>\n",
              "    <tr>\n",
              "      <th>4</th>\n",
              "      <td>U1068</td>\n",
              "      <td>135104</td>\n",
              "      <td>1</td>\n",
              "      <td>1</td>\n",
              "      <td>2</td>\n",
              "    </tr>\n",
              "  </tbody>\n",
              "</table>\n",
              "</div>\n",
              "      <button class=\"colab-df-convert\" onclick=\"convertToInteractive('df-0fc566ad-edd5-455b-b385-196d2f5227f3')\"\n",
              "              title=\"Convert this dataframe to an interactive table.\"\n",
              "              style=\"display:none;\">\n",
              "        \n",
              "  <svg xmlns=\"http://www.w3.org/2000/svg\" height=\"24px\"viewBox=\"0 0 24 24\"\n",
              "       width=\"24px\">\n",
              "    <path d=\"M0 0h24v24H0V0z\" fill=\"none\"/>\n",
              "    <path d=\"M18.56 5.44l.94 2.06.94-2.06 2.06-.94-2.06-.94-.94-2.06-.94 2.06-2.06.94zm-11 1L8.5 8.5l.94-2.06 2.06-.94-2.06-.94L8.5 2.5l-.94 2.06-2.06.94zm10 10l.94 2.06.94-2.06 2.06-.94-2.06-.94-.94-2.06-.94 2.06-2.06.94z\"/><path d=\"M17.41 7.96l-1.37-1.37c-.4-.4-.92-.59-1.43-.59-.52 0-1.04.2-1.43.59L10.3 9.45l-7.72 7.72c-.78.78-.78 2.05 0 2.83L4 21.41c.39.39.9.59 1.41.59.51 0 1.02-.2 1.41-.59l7.78-7.78 2.81-2.81c.8-.78.8-2.07 0-2.86zM5.41 20L4 18.59l7.72-7.72 1.47 1.35L5.41 20z\"/>\n",
              "  </svg>\n",
              "      </button>\n",
              "      \n",
              "  <style>\n",
              "    .colab-df-container {\n",
              "      display:flex;\n",
              "      flex-wrap:wrap;\n",
              "      gap: 12px;\n",
              "    }\n",
              "\n",
              "    .colab-df-convert {\n",
              "      background-color: #E8F0FE;\n",
              "      border: none;\n",
              "      border-radius: 50%;\n",
              "      cursor: pointer;\n",
              "      display: none;\n",
              "      fill: #1967D2;\n",
              "      height: 32px;\n",
              "      padding: 0 0 0 0;\n",
              "      width: 32px;\n",
              "    }\n",
              "\n",
              "    .colab-df-convert:hover {\n",
              "      background-color: #E2EBFA;\n",
              "      box-shadow: 0px 1px 2px rgba(60, 64, 67, 0.3), 0px 1px 3px 1px rgba(60, 64, 67, 0.15);\n",
              "      fill: #174EA6;\n",
              "    }\n",
              "\n",
              "    [theme=dark] .colab-df-convert {\n",
              "      background-color: #3B4455;\n",
              "      fill: #D2E3FC;\n",
              "    }\n",
              "\n",
              "    [theme=dark] .colab-df-convert:hover {\n",
              "      background-color: #434B5C;\n",
              "      box-shadow: 0px 1px 3px 1px rgba(0, 0, 0, 0.15);\n",
              "      filter: drop-shadow(0px 1px 2px rgba(0, 0, 0, 0.3));\n",
              "      fill: #FFFFFF;\n",
              "    }\n",
              "  </style>\n",
              "\n",
              "      <script>\n",
              "        const buttonEl =\n",
              "          document.querySelector('#df-0fc566ad-edd5-455b-b385-196d2f5227f3 button.colab-df-convert');\n",
              "        buttonEl.style.display =\n",
              "          google.colab.kernel.accessAllowed ? 'block' : 'none';\n",
              "\n",
              "        async function convertToInteractive(key) {\n",
              "          const element = document.querySelector('#df-0fc566ad-edd5-455b-b385-196d2f5227f3');\n",
              "          const dataTable =\n",
              "            await google.colab.kernel.invokeFunction('convertToInteractive',\n",
              "                                                     [key], {});\n",
              "          if (!dataTable) return;\n",
              "\n",
              "          const docLinkHtml = 'Like what you see? Visit the ' +\n",
              "            '<a target=\"_blank\" href=https://colab.research.google.com/notebooks/data_table.ipynb>data table notebook</a>'\n",
              "            + ' to learn more about interactive tables.';\n",
              "          element.innerHTML = '';\n",
              "          dataTable['output_type'] = 'display_data';\n",
              "          await google.colab.output.renderOutput(dataTable, element);\n",
              "          const docLink = document.createElement('div');\n",
              "          docLink.innerHTML = docLinkHtml;\n",
              "          element.appendChild(docLink);\n",
              "        }\n",
              "      </script>\n",
              "    </div>\n",
              "  </div>\n",
              "  "
            ],
            "text/plain": [
              "  userID  placeID  rating  food_rating  service_rating\n",
              "0  U1077   135085       2            2               2\n",
              "1  U1077   135038       2            2               1\n",
              "2  U1077   132825       2            2               2\n",
              "3  U1077   135060       1            2               2\n",
              "4  U1068   135104       1            1               2"
            ]
          },
          "metadata": {},
          "execution_count": 7
        }
      ]
    },
    {
      "cell_type": "code",
      "source": [
        "# view the range of ratings available in the data\n",
        "rating_df.rating.value_counts()"
      ],
      "metadata": {
        "colab": {
          "base_uri": "https://localhost:8080/"
        },
        "id": "DAZ4s3FDwmSb",
        "outputId": "81dc7b34-67d3-4861-e6e0-0c127f8209ed"
      },
      "execution_count": null,
      "outputs": [
        {
          "output_type": "execute_result",
          "data": {
            "text/plain": [
              "2    486\n",
              "1    421\n",
              "0    254\n",
              "Name: rating, dtype: int64"
            ]
          },
          "metadata": {},
          "execution_count": 8
        }
      ]
    },
    {
      "cell_type": "code",
      "source": [
        "import matplotlib.pyplot as plt\n",
        "rating_df.rating.value_counts().plot(kind='bar')\n",
        "plt.show()"
      ],
      "metadata": {
        "colab": {
          "base_uri": "https://localhost:8080/",
          "height": 262
        },
        "id": "f0Bt7W0Jwx4s",
        "outputId": "9f6bb250-abfc-4206-b4d2-5d646fccb1fe"
      },
      "execution_count": null,
      "outputs": [
        {
          "output_type": "display_data",
          "data": {
            "image/png": "[encoded data removed]",
            "text/plain": [
              "<Figure size 432x288 with 1 Axes>"
            ]
          },
          "metadata": {
            "needs_background": "light"
          }
        }
      ]
    },
    {
      "cell_type": "code",
      "source": [
        "# checking data type of each column\n",
        "rating_df.info()"
      ],
      "metadata": {
        "colab": {
          "base_uri": "https://localhost:8080/"
        },
        "id": "7bmUlTkZxQLQ",
        "outputId": "ac15a418-ba65-4b91-b71a-7f3df62b01b7"
      },
      "execution_count": null,
      "outputs": [
        {
          "output_type": "stream",
          "name": "stdout",
          "text": [
            "<class 'pandas.core.frame.DataFrame'>\n",
            "RangeIndex: 1161 entries, 0 to 1160\n",
            "Data columns (total 5 columns):\n",
            " #   Column          Non-Null Count  Dtype \n",
            "---  ------          --------------  ----- \n",
            " 0   userID          1161 non-null   object\n",
            " 1   placeID         1161 non-null   int64 \n",
            " 2   rating          1161 non-null   int64 \n",
            " 3   food_rating     1161 non-null   int64 \n",
            " 4   service_rating  1161 non-null   int64 \n",
            "dtypes: int64(4), object(1)\n",
            "memory usage: 45.5+ KB\n"
          ]
        }
      ]
    },
    {
      "cell_type": "code",
      "source": [
        "# checking if we need to do any missing values imputation\n",
        "rating_df.isnull().sum()"
      ],
      "metadata": {
        "colab": {
          "base_uri": "https://localhost:8080/"
        },
        "id": "QVquQozDxkhr",
        "outputId": "53d58f93-f364-480b-c628-85a9e8ad2b73"
      },
      "execution_count": null,
      "outputs": [
        {
          "output_type": "execute_result",
          "data": {
            "text/plain": [
              "userID            0\n",
              "placeID           0\n",
              "rating            0\n",
              "food_rating       0\n",
              "service_rating    0\n",
              "dtype: int64"
            ]
          },
          "metadata": {},
          "execution_count": 11
        }
      ]
    },
    {
      "cell_type": "code",
      "source": [
        "!pip install surprise"
      ],
      "metadata": {
        "colab": {
          "base_uri": "https://localhost:8080/"
        },
        "id": "DGgrs3fb3UaC",
        "outputId": "572c31b7-4336-4808-a956-3ba7d059fe7b"
      },
      "execution_count": null,
      "outputs": [
        {
          "output_type": "stream",
          "name": "stdout",
          "text": [
            "Requirement already satisfied: surprise in /usr/local/lib/python3.7/dist-packages (0.1)\n",
            "Requirement already satisfied: scikit-surprise in /usr/local/lib/python3.7/dist-packages (from surprise) (1.1.1)\n",
            "Requirement already satisfied: six>=1.10.0 in /usr/local/lib/python3.7/dist-packages (from scikit-surprise->surprise) (1.15.0)\n",
            "Requirement already satisfied: scipy>=1.0.0 in /usr/local/lib/python3.7/dist-packages (from scikit-surprise->surprise) (1.4.1)\n",
            "Requirement already satisfied: numpy>=1.11.2 in /usr/local/lib/python3.7/dist-packages (from scikit-surprise->surprise) (1.21.5)\n",
            "Requirement already satisfied: joblib>=0.11 in /usr/local/lib/python3.7/dist-packages (from scikit-surprise->surprise) (1.1.0)\n"
          ]
        }
      ]
    },
    {
      "cell_type": "code",
      "source": [
        "# preparing the data to be used in the Singular Vector Decomposition method\n",
        "from surprise import Reader, Dataset\n",
        "reader = Reader(rating_scale = (0, 2))\n",
        "ratingdata = Dataset.load_from_df(rating_df[['userID','placeID','rating']], reader)"
      ],
      "metadata": {
        "id": "Q0QSSLz32go0"
      },
      "execution_count": null,
      "outputs": []
    },
    {
      "cell_type": "markdown",
      "source": [
        "**Training the model to build up the recommendation system**"
      ],
      "metadata": {
        "id": "YZntJxX_52y1"
      }
    },
    {
      "cell_type": "code",
      "source": [
        "# Taken from the documentation https://surprise.readthedocs.io/en/stable/getting_started.html#train-test-split-py\n",
        "from surprise.model_selection import KFold\n",
        "from surprise import SVD, accuracy\n",
        "\n",
        "# define a cross-validation iterator\n",
        "kf = KFold(n_splits=5)\n",
        "\n",
        "algo = SVD()\n",
        "\n",
        "for trainset, testset in kf.split(ratingdata):\n",
        "\n",
        "    # train and test algorithm.\n",
        "    algo.fit(trainset)\n",
        "    predictions = algo.test(testset)\n",
        "\n",
        "    # Compute and print Root Mean Squared Error\n",
        "    accuracy.rmse(predictions, verbose=True)"
      ],
      "metadata": {
        "colab": {
          "base_uri": "https://localhost:8080/"
        },
        "id": "GRRC1bky17Ov",
        "outputId": "1280ec3d-bf12-4b47-d7d8-29b0ab3e29e5"
      },
      "execution_count": null,
      "outputs": [
        {
          "output_type": "stream",
          "name": "stdout",
          "text": [
            "RMSE: 0.7200\n",
            "RMSE: 0.6611\n",
            "RMSE: 0.7227\n",
            "RMSE: 0.7051\n",
            "RMSE: 0.6511\n"
          ]
        }
      ]
    },
    {
      "cell_type": "code",
      "source": [
        "# Adapted from https://surprise.readthedocs.io/en/stable/FAQ.html\n",
        "import random\n",
        "from surprise.model_selection import GridSearchCV\n",
        "\n",
        "raw_ratings = ratingdata.raw_ratings\n",
        "# shuffle ratings if you want\n",
        "random.shuffle(raw_ratings)\n",
        "\n",
        "# A = 80% of the data, B = 20% of the data\n",
        "threshold = int(.8 * len(raw_ratings))\n",
        "A_raw_ratings = raw_ratings[:threshold]\n",
        "B_raw_ratings = raw_ratings[threshold:]\n",
        "\n",
        "ratingdata.raw_ratings = A_raw_ratings  # ratingdata is now the set A\n",
        "\n",
        "param_grid = {'n_epochs': [5, 10], 'lr_all': [0.002, 0.005],\n",
        "              'reg_all': [0.4, 0.6]}\n",
        "\n",
        "gs = GridSearchCV(SVD, param_grid, measures=['rmse', 'mae'], cv=3)\n",
        "\n",
        "gs.fit(ratingdata)\n",
        "\n",
        "# best RMSE score\n",
        "print(gs.best_score['rmse'])\n",
        "\n",
        "# combination of parameters that gave the best RMSE score\n",
        "print(gs.best_params['rmse'])"
      ],
      "metadata": {
        "colab": {
          "base_uri": "https://localhost:8080/"
        },
        "id": "e9G-U_thjcTV",
        "outputId": "8ac8c549-2286-4922-a472-9030573256f3"
      },
      "execution_count": null,
      "outputs": [
        {
          "output_type": "stream",
          "name": "stdout",
          "text": [
            "0.7337582214135363\n",
            "{'n_epochs': 10, 'lr_all': 0.005, 'reg_all': 0.6}\n"
          ]
        }
      ]
    },
    {
      "cell_type": "code",
      "source": [
        "# We can now use the algorithm that yields the best rmse:\n",
        "algo = gs.best_estimator['rmse']\n",
        "\n",
        "for trainset, testset in kf.split(ratingdata):\n",
        "\n",
        "    # train and test algorithm.\n",
        "    algo.fit(trainset)\n",
        "    predictions = algo.test(testset)\n",
        "\n",
        "    # Compute and print Root Mean Squared Error\n",
        "    accuracy.rmse(predictions, verbose=True)"
      ],
      "metadata": {
        "colab": {
          "base_uri": "https://localhost:8080/"
        },
        "id": "o9DXzrRVnQzw",
        "outputId": "e1a21e9e-6a53-4fd3-b2ae-c5fe6d47e7a6"
      },
      "execution_count": null,
      "outputs": [
        {
          "output_type": "stream",
          "name": "stdout",
          "text": [
            "RMSE: 0.7125\n",
            "RMSE: 0.7355\n",
            "RMSE: 0.7410\n",
            "RMSE: 0.7310\n",
            "RMSE: 0.6922\n"
          ]
        }
      ]
    },
    {
      "cell_type": "code",
      "source": [
        "testset[0]"
      ],
      "metadata": {
        "colab": {
          "base_uri": "https://localhost:8080/"
        },
        "id": "7HDl1lc6-fSE",
        "outputId": "fd20f396-c1ba-4980-864e-8334464979e5"
      },
      "execution_count": null,
      "outputs": [
        {
          "output_type": "execute_result",
          "data": {
            "text/plain": [
              "('U1092', 132723, 1.0)"
            ]
          },
          "metadata": {},
          "execution_count": 25
        }
      ]
    },
    {
      "cell_type": "code",
      "source": [
        "recommendations = [pred for pred in predictions if pred[0] == 'U1045']"
      ],
      "metadata": {
        "id": "SevXsVyS_luC"
      },
      "execution_count": null,
      "outputs": []
    },
    {
      "cell_type": "code",
      "source": [
        "recommendations"
      ],
      "metadata": {
        "colab": {
          "base_uri": "https://localhost:8080/"
        },
        "id": "qGsg6DpZ_X_p",
        "outputId": "96fc6246-d63d-49cb-f1fd-43c026064198"
      },
      "execution_count": null,
      "outputs": [
        {
          "output_type": "execute_result",
          "data": {
            "text/plain": [
              "[Prediction(uid='U1045', iid=135051, r_ui=2.0, est=1.3795845238579956, details={'was_impossible': False}),\n",
              " Prediction(uid='U1045', iid=135064, r_ui=0.0, est=1.211651679003422, details={'was_impossible': False})]"
            ]
          },
          "metadata": {},
          "execution_count": 27
        }
      ]
    },
    {
      "cell_type": "code",
      "source": [
        "from collections import defaultdict\n",
        "\n",
        "def get_all_predictions(predictions):\n",
        "    \n",
        "    # First map the predictions to each user.\n",
        "    top_n = defaultdict(list)    \n",
        "    for uid, iid, true_r, est, _ in predictions:\n",
        "        top_n[uid].append((iid, est))\n",
        "    # Then sort the predictions for each user\n",
        "    for uid, user_ratings in top_n.items():\n",
        "        user_ratings.sort(key=lambda x: x[1], reverse=True)\n",
        "    return top_n\n",
        "\n",
        "all_pred = get_all_predictions(predictions)"
      ],
      "metadata": {
        "id": "cLNQTV7zAF40"
      },
      "execution_count": null,
      "outputs": []
    },
    {
      "cell_type": "code",
      "source": [
        "all_pred"
      ],
      "metadata": {
        "colab": {
          "base_uri": "https://localhost:8080/"
        },
        "id": "5PMu1cWSCOJF",
        "outputId": "11d22939-b5cd-4ab7-9dfd-928f7e8c5619"
      },
      "execution_count": null,
      "outputs": [
        {
          "output_type": "execute_result",
          "data": {
            "text/plain": [
              "defaultdict(list,\n",
              "            {'U1003': [(132755, 1.2528260869461272)],\n",
              "             'U1004': [(135062, 1.2641213939614815),\n",
              "              (135032, 1.2362366600193968)],\n",
              "             'U1005': [(135041, 1.2576252965452386),\n",
              "              (135050, 1.1702874326220778)],\n",
              "             'U1007': [(135057, 1.0872791887111457),\n",
              "              (132572, 1.0345159682512415)],\n",
              "             'U1010': [(135042, 1.190230600991474),\n",
              "              (135058, 1.1425679687421886),\n",
              "              (135064, 1.132698932822473)],\n",
              "             'U1012': [(134983, 1.028890412562654)],\n",
              "             'U1014': [(135082, 1.2244309745925197),\n",
              "              (132830, 1.1896100214020302)],\n",
              "             'U1015': [(132845, 1.0857608115148507)],\n",
              "             'U1016': [(135042, 1.4158462480673355)],\n",
              "             'U1017': [(134975, 1.0741044367672306)],\n",
              "             'U1018': [(135066, 1.1894237506853322),\n",
              "              (135108, 1.1534666170606998),\n",
              "              (135069, 1.1433107542095737)],\n",
              "             'U1019': [(135079, 1.0645161367552671),\n",
              "              (132834, 0.7148750022162746)],\n",
              "             'U1022': [(135033, 1.251658970110006)],\n",
              "             'U1023': [(132717, 1.1705386161541684)],\n",
              "             'U1024': [(135030, 1.3020292297081775),\n",
              "              (135039, 1.210027296299665)],\n",
              "             'U1025': [(135071, 1.324943810569689)],\n",
              "             'U1026': [(132561, 1.2588006393384588),\n",
              "              (132654, 1.1811291673988367)],\n",
              "             'U1027': [(132951, 0.9867804318902736)],\n",
              "             'U1029': [(132862, 1.315232153843547)],\n",
              "             'U1030': [(134996, 1.1539421097177227),\n",
              "              (135016, 1.1045189822011583)],\n",
              "             'U1033': [(132921, 1.2831344895955927)],\n",
              "             'U1034': [(135035, 1.1471163315574728)],\n",
              "             'U1035': [(132773, 1.2274975150200398)],\n",
              "             'U1036': [(135085, 1.4180561536533538),\n",
              "              (135045, 1.353433505066603)],\n",
              "             'U1037': [(135070, 1.2444801290275425),\n",
              "              (132847, 1.2132792866142292),\n",
              "              (135071, 1.1871235894017258)],\n",
              "             'U1038': [(132854, 1.1900592619939494),\n",
              "              (132862, 1.0405312976022079)],\n",
              "             'U1042': [(134996, 1.2553260967340638)],\n",
              "             'U1043': [(132732, 0.9669985367924446)],\n",
              "             'U1045': [(135051, 1.3795845238579956),\n",
              "              (135064, 1.211651679003422)],\n",
              "             'U1046': [(135085, 1.2707936942102254),\n",
              "              (135026, 1.1860200764460822),\n",
              "              (132921, 1.1503605326774686),\n",
              "              (135058, 1.1481226598792134)],\n",
              "             'U1049': [(135051, 1.0461358226314001),\n",
              "              (135041, 0.9660403878985544)],\n",
              "             'U1050': [(132608, 1.0180243972715206)],\n",
              "             'U1051': [(135109, 1.1548308494596509)],\n",
              "             'U1053': [(132754, 1.431145388834091),\n",
              "              (135053, 1.3530533826999422),\n",
              "              (135062, 1.3354427418037806),\n",
              "              (135060, 1.3012397187527311),\n",
              "              (135032, 1.256892760481234),\n",
              "              (135047, 1.2352242007329324)],\n",
              "             'U1054': [(135039, 1.4194620245317549)],\n",
              "             'U1055': [(132825, 1.4697034894410455),\n",
              "              (135048, 1.2522392834558314)],\n",
              "             'U1056': [(135076, 1.4449875473017906)],\n",
              "             'U1057': [(132825, 1.2269891536974793),\n",
              "              (135043, 1.0134017475129193)],\n",
              "             'U1059': [(132955, 1.4089705137372983)],\n",
              "             'U1060': [(132733, 1.2487400847192796),\n",
              "              (132740, 1.1415686000969056)],\n",
              "             'U1061': [(132921, 1.3772477639443554)],\n",
              "             'U1062': [(135062, 1.092380547062368),\n",
              "              (135085, 1.088222590169234),\n",
              "              (135038, 1.0836961957189617),\n",
              "              (135053, 1.0269949515978316)],\n",
              "             'U1063': [(132667, 1.1780743917038023)],\n",
              "             'U1064': [(135042, 1.2348737096631461)],\n",
              "             'U1065': [(132654, 1.178545649998284)],\n",
              "             'U1070': [(132609, 1.1519503298199962)],\n",
              "             'U1072': [(135088, 1.2154357171054981)],\n",
              "             'U1073': [(135062, 0.8942349189229344),\n",
              "              (132834, 0.6171712376341516)],\n",
              "             'U1075': [(135081, 1.251618939344826)],\n",
              "             'U1079': [(132768, 1.2849265919373034)],\n",
              "             'U1083': [(135034, 1.376121175795575),\n",
              "              (132723, 1.3413963974163683)],\n",
              "             'U1084': [(135085, 1.3127055865138577),\n",
              "              (135045, 1.2984149636321303)],\n",
              "             'U1085': [(135081, 1.2993366034540679)],\n",
              "             'U1086': [(135045, 1.2502952098901652)],\n",
              "             'U1087': [(135104, 1.2122091903527876)],\n",
              "             'U1088': [(135057, 1.4246213163580002),\n",
              "              (135108, 1.2322881140525956)],\n",
              "             'U1089': [(135072, 1.1363971762124592),\n",
              "              (135028, 1.1099746544258209)],\n",
              "             'U1091': [(135075, 1.2687281452879728),\n",
              "              (132572, 0.9853525285146275)],\n",
              "             'U1092': [(132723, 1.1062268736978926)],\n",
              "             'U1093': [(135019, 1.1063418662204225)],\n",
              "             'U1095': [(132723, 1.4827144350798773),\n",
              "              (135064, 1.0593313061106666),\n",
              "              (135058, 1.053076045559985)],\n",
              "             'U1097': [(135034, 1.3644974362536466)],\n",
              "             'U1098': [(132885, 1.170505819314554)],\n",
              "             'U1099': [(135076, 1.1391807529612699)],\n",
              "             'U1103': [(132733, 1.0365238917258235)],\n",
              "             'U1104': [(135032, 1.2293800126863081),\n",
              "              (135033, 1.161991771302326),\n",
              "              (132834, 1.0208171790786447),\n",
              "              (135047, 0.9822901585079021)],\n",
              "             'U1106': [(132862, 1.1330066232989036),\n",
              "              (135062, 1.123457451928481)],\n",
              "             'U1108': [(135075, 1.441279495094493)],\n",
              "             'U1109': [(135085, 1.417091718355825),\n",
              "              (135038, 1.3538467726932828),\n",
              "              (132825, 1.3067798359995597),\n",
              "              (132856, 1.2788522920671732)],\n",
              "             'U1111': [(132870, 1.1421032857968434)],\n",
              "             'U1112': [(135064, 0.8755182163314258)],\n",
              "             'U1113': [(135057, 0.9408144426661227)],\n",
              "             'U1114': [(135065, 0.9341834837685769)],\n",
              "             'U1116': [(135038, 1.2422483634304482)],\n",
              "             'U1117': [(132773, 1.023886651885723)],\n",
              "             'U1118': [(135001, 1.1064005459707622)],\n",
              "             'U1120': [(135045, 1.205855550432055)],\n",
              "             'U1121': [(135019, 1.193873488119213),\n",
              "              (132767, 1.1848507593098416)],\n",
              "             'U1122': [(135085, 1.296402663529981),\n",
              "              (135038, 1.2738753713158073),\n",
              "              (135065, 1.19192053298828)],\n",
              "             'U1123': [(132594, 1.1045020834234347)],\n",
              "             'U1124': [(135069, 1.0038604585783348)],\n",
              "             'U1126': [(135108, 1.1025351156239607)],\n",
              "             'U1131': [(132869, 1.0905109855183857)],\n",
              "             'U1132': [(135028, 1.4507389847073846),\n",
              "              (135052, 1.3293023297204845)],\n",
              "             'U1133': [(135001, 1.2705252927447692),\n",
              "              (134975, 1.2461743324242485),\n",
              "              (135019, 1.0794428268737288)],\n",
              "             'U1134': [(135085, 1.2896606100758634),\n",
              "              (135080, 1.180826605873973)],\n",
              "             'U1135': [(135045, 1.0290445229541558),\n",
              "              (135041, 0.9679102131759019),\n",
              "              (135060, 0.9518962507730637),\n",
              "              (135106, 0.9039193219573164),\n",
              "              (135058, 0.8604713161092334)],\n",
              "             'U1136': [(135055, 1.4908450397084092)],\n",
              "             'U1137': [(132834, 1.3010121512694997),\n",
              "              (132951, 1.2810555684816376)]})"
            ]
          },
          "metadata": {},
          "execution_count": 29
        }
      ]
    },
    {
      "cell_type": "code",
      "source": [
        "new_all_pred=dict(filter(lambda elem: len(elem[1]) != 1, all_pred.items()))"
      ],
      "metadata": {
        "id": "wOtacGPG_bDB"
      },
      "execution_count": null,
      "outputs": []
    },
    {
      "cell_type": "code",
      "source": [
        "n = 3\n",
        "for uid, user_ratings in new_all_pred.items():\n",
        "    user_ratings.sort(key=lambda x: x[1], reverse=True)\n",
        "    new_all_pred[uid] = user_ratings[:n]\n",
        "    \n",
        "tmp = pd.DataFrame.from_dict(new_all_pred)\n",
        "tmp_transpose = tmp.transpose()"
      ],
      "metadata": {
        "id": "nPBOkdYvoYPP"
      },
      "execution_count": null,
      "outputs": []
    },
    {
      "cell_type": "code",
      "source": [
        "tmp_transpose"
      ],
      "metadata": {
        "colab": {
          "base_uri": "https://localhost:8080/",
          "height": 1000
        },
        "id": "TjDLVB92oaMw",
        "outputId": "4a41ac9e-e4ad-4f28-a2a0-7bd49e513502"
      },
      "execution_count": null,
      "outputs": [
        {
          "output_type": "execute_result",
          "data": {
            "text/html": [
              "\n",
              "  <div id=\"df-15fec5a8-7afa-4ad8-86a2-d7c18f9aa909\">\n",
              "    <div class=\"colab-df-container\">\n",
              "      <div>\n",
              "<style scoped>\n",
              "    .dataframe tbody tr th:only-of-type {\n",
              "        vertical-align: middle;\n",
              "    }\n",
              "\n",
              "    .dataframe tbody tr th {\n",
              "        vertical-align: top;\n",
              "    }\n",
              "\n",
              "    .dataframe thead th {\n",
              "        text-align: right;\n",
              "    }\n",
              "</style>\n",
              "<table border=\"1\" class=\"dataframe\">\n",
              "  <thead>\n",
              "    <tr style=\"text-align: right;\">\n",
              "      <th></th>\n",
              "      <th>0</th>\n",
              "      <th>1</th>\n",
              "    </tr>\n",
              "  </thead>\n",
              "  <tbody>\n",
              "    <tr>\n",
              "      <th>U1060</th>\n",
              "      <td>(132733, 1.2487400847192796)</td>\n",
              "      <td>(132740, 1.1415686000969056)</td>\n",
              "    </tr>\n",
              "    <tr>\n",
              "      <th>U1037</th>\n",
              "      <td>(135070, 1.2444801290275425)</td>\n",
              "      <td>(132847, 1.2132792866142292)</td>\n",
              "    </tr>\n",
              "    <tr>\n",
              "      <th>U1007</th>\n",
              "      <td>(135057, 1.0872791887111457)</td>\n",
              "      <td>(132572, 1.0345159682512415)</td>\n",
              "    </tr>\n",
              "    <tr>\n",
              "      <th>U1045</th>\n",
              "      <td>(135051, 1.3795845238579956)</td>\n",
              "      <td>(135064, 1.211651679003422)</td>\n",
              "    </tr>\n",
              "    <tr>\n",
              "      <th>U1053</th>\n",
              "      <td>(132754, 1.431145388834091)</td>\n",
              "      <td>(135053, 1.3530533826999422)</td>\n",
              "    </tr>\n",
              "    <tr>\n",
              "      <th>U1049</th>\n",
              "      <td>(135051, 1.0461358226314001)</td>\n",
              "      <td>(135041, 0.9660403878985544)</td>\n",
              "    </tr>\n",
              "    <tr>\n",
              "      <th>U1137</th>\n",
              "      <td>(132834, 1.3010121512694997)</td>\n",
              "      <td>(132951, 1.2810555684816376)</td>\n",
              "    </tr>\n",
              "    <tr>\n",
              "      <th>U1062</th>\n",
              "      <td>(135062, 1.092380547062368)</td>\n",
              "      <td>(135085, 1.088222590169234)</td>\n",
              "    </tr>\n",
              "    <tr>\n",
              "      <th>U1121</th>\n",
              "      <td>(135019, 1.193873488119213)</td>\n",
              "      <td>(132767, 1.1848507593098416)</td>\n",
              "    </tr>\n",
              "    <tr>\n",
              "      <th>U1135</th>\n",
              "      <td>(135045, 1.0290445229541558)</td>\n",
              "      <td>(135041, 0.9679102131759019)</td>\n",
              "    </tr>\n",
              "    <tr>\n",
              "      <th>U1046</th>\n",
              "      <td>(135085, 1.2707936942102254)</td>\n",
              "      <td>(135026, 1.1860200764460822)</td>\n",
              "    </tr>\n",
              "    <tr>\n",
              "      <th>U1004</th>\n",
              "      <td>(135062, 1.2641213939614815)</td>\n",
              "      <td>(135032, 1.2362366600193968)</td>\n",
              "    </tr>\n",
              "    <tr>\n",
              "      <th>U1104</th>\n",
              "      <td>(135032, 1.2293800126863081)</td>\n",
              "      <td>(135033, 1.161991771302326)</td>\n",
              "    </tr>\n",
              "    <tr>\n",
              "      <th>U1109</th>\n",
              "      <td>(135085, 1.417091718355825)</td>\n",
              "      <td>(135038, 1.3538467726932828)</td>\n",
              "    </tr>\n",
              "    <tr>\n",
              "      <th>U1134</th>\n",
              "      <td>(135085, 1.2896606100758634)</td>\n",
              "      <td>(135080, 1.180826605873973)</td>\n",
              "    </tr>\n",
              "    <tr>\n",
              "      <th>U1026</th>\n",
              "      <td>(132561, 1.2588006393384588)</td>\n",
              "      <td>(132654, 1.1811291673988367)</td>\n",
              "    </tr>\n",
              "    <tr>\n",
              "      <th>U1005</th>\n",
              "      <td>(135041, 1.2576252965452386)</td>\n",
              "      <td>(135050, 1.1702874326220778)</td>\n",
              "    </tr>\n",
              "    <tr>\n",
              "      <th>U1133</th>\n",
              "      <td>(135001, 1.2705252927447692)</td>\n",
              "      <td>(134975, 1.2461743324242485)</td>\n",
              "    </tr>\n",
              "    <tr>\n",
              "      <th>U1122</th>\n",
              "      <td>(135085, 1.296402663529981)</td>\n",
              "      <td>(135038, 1.2738753713158073)</td>\n",
              "    </tr>\n",
              "    <tr>\n",
              "      <th>U1057</th>\n",
              "      <td>(132825, 1.2269891536974793)</td>\n",
              "      <td>(135043, 1.0134017475129193)</td>\n",
              "    </tr>\n",
              "    <tr>\n",
              "      <th>U1095</th>\n",
              "      <td>(132723, 1.4827144350798773)</td>\n",
              "      <td>(135064, 1.0593313061106666)</td>\n",
              "    </tr>\n",
              "    <tr>\n",
              "      <th>U1010</th>\n",
              "      <td>(135042, 1.190230600991474)</td>\n",
              "      <td>(135058, 1.1425679687421886)</td>\n",
              "    </tr>\n",
              "    <tr>\n",
              "      <th>U1132</th>\n",
              "      <td>(135028, 1.4507389847073846)</td>\n",
              "      <td>(135052, 1.3293023297204845)</td>\n",
              "    </tr>\n",
              "    <tr>\n",
              "      <th>U1018</th>\n",
              "      <td>(135066, 1.1894237506853322)</td>\n",
              "      <td>(135108, 1.1534666170606998)</td>\n",
              "    </tr>\n",
              "    <tr>\n",
              "      <th>U1088</th>\n",
              "      <td>(135057, 1.4246213163580002)</td>\n",
              "      <td>(135108, 1.2322881140525956)</td>\n",
              "    </tr>\n",
              "    <tr>\n",
              "      <th>U1084</th>\n",
              "      <td>(135085, 1.3127055865138577)</td>\n",
              "      <td>(135045, 1.2984149636321303)</td>\n",
              "    </tr>\n",
              "    <tr>\n",
              "      <th>U1055</th>\n",
              "      <td>(132825, 1.4697034894410455)</td>\n",
              "      <td>(135048, 1.2522392834558314)</td>\n",
              "    </tr>\n",
              "    <tr>\n",
              "      <th>U1030</th>\n",
              "      <td>(134996, 1.1539421097177227)</td>\n",
              "      <td>(135016, 1.1045189822011583)</td>\n",
              "    </tr>\n",
              "    <tr>\n",
              "      <th>U1038</th>\n",
              "      <td>(132854, 1.1900592619939494)</td>\n",
              "      <td>(132862, 1.0405312976022079)</td>\n",
              "    </tr>\n",
              "    <tr>\n",
              "      <th>U1089</th>\n",
              "      <td>(135072, 1.1363971762124592)</td>\n",
              "      <td>(135028, 1.1099746544258209)</td>\n",
              "    </tr>\n",
              "    <tr>\n",
              "      <th>U1091</th>\n",
              "      <td>(135075, 1.2687281452879728)</td>\n",
              "      <td>(132572, 0.9853525285146275)</td>\n",
              "    </tr>\n",
              "    <tr>\n",
              "      <th>U1036</th>\n",
              "      <td>(135085, 1.4180561536533538)</td>\n",
              "      <td>(135045, 1.353433505066603)</td>\n",
              "    </tr>\n",
              "    <tr>\n",
              "      <th>U1083</th>\n",
              "      <td>(135034, 1.376121175795575)</td>\n",
              "      <td>(132723, 1.3413963974163683)</td>\n",
              "    </tr>\n",
              "    <tr>\n",
              "      <th>U1014</th>\n",
              "      <td>(135082, 1.2244309745925197)</td>\n",
              "      <td>(132830, 1.1896100214020302)</td>\n",
              "    </tr>\n",
              "    <tr>\n",
              "      <th>U1024</th>\n",
              "      <td>(135030, 1.3020292297081775)</td>\n",
              "      <td>(135039, 1.210027296299665)</td>\n",
              "    </tr>\n",
              "    <tr>\n",
              "      <th>U1106</th>\n",
              "      <td>(132862, 1.1330066232989036)</td>\n",
              "      <td>(135062, 1.123457451928481)</td>\n",
              "    </tr>\n",
              "    <tr>\n",
              "      <th>U1019</th>\n",
              "      <td>(135079, 1.0645161367552671)</td>\n",
              "      <td>(132834, 0.7148750022162746)</td>\n",
              "    </tr>\n",
              "    <tr>\n",
              "      <th>U1073</th>\n",
              "      <td>(135062, 0.8942349189229344)</td>\n",
              "      <td>(132834, 0.6171712376341516)</td>\n",
              "    </tr>\n",
              "  </tbody>\n",
              "</table>\n",
              "</div>\n",
              "      <button class=\"colab-df-convert\" onclick=\"convertToInteractive('df-15fec5a8-7afa-4ad8-86a2-d7c18f9aa909')\"\n",
              "              title=\"Convert this dataframe to an interactive table.\"\n",
              "              style=\"display:none;\">\n",
              "        \n",
              "  <svg xmlns=\"http://www.w3.org/2000/svg\" height=\"24px\"viewBox=\"0 0 24 24\"\n",
              "       width=\"24px\">\n",
              "    <path d=\"M0 0h24v24H0V0z\" fill=\"none\"/>\n",
              "    <path d=\"M18.56 5.44l.94 2.06.94-2.06 2.06-.94-2.06-.94-.94-2.06-.94 2.06-2.06.94zm-11 1L8.5 8.5l.94-2.06 2.06-.94-2.06-.94L8.5 2.5l-.94 2.06-2.06.94zm10 10l.94 2.06.94-2.06 2.06-.94-2.06-.94-.94-2.06-.94 2.06-2.06.94z\"/><path d=\"M17.41 7.96l-1.37-1.37c-.4-.4-.92-.59-1.43-.59-.52 0-1.04.2-1.43.59L10.3 9.45l-7.72 7.72c-.78.78-.78 2.05 0 2.83L4 21.41c.39.39.9.59 1.41.59.51 0 1.02-.2 1.41-.59l7.78-7.78 2.81-2.81c.8-.78.8-2.07 0-2.86zM5.41 20L4 18.59l7.72-7.72 1.47 1.35L5.41 20z\"/>\n",
              "  </svg>\n",
              "      </button>\n",
              "      \n",
              "  <style>\n",
              "    .colab-df-container {\n",
              "      display:flex;\n",
              "      flex-wrap:wrap;\n",
              "      gap: 12px;\n",
              "    }\n",
              "\n",
              "    .colab-df-convert {\n",
              "      background-color: #E8F0FE;\n",
              "      border: none;\n",
              "      border-radius: 50%;\n",
              "      cursor: pointer;\n",
              "      display: none;\n",
              "      fill: #1967D2;\n",
              "      height: 32px;\n",
              "      padding: 0 0 0 0;\n",
              "      width: 32px;\n",
              "    }\n",
              "\n",
              "    .colab-df-convert:hover {\n",
              "      background-color: #E2EBFA;\n",
              "      box-shadow: 0px 1px 2px rgba(60, 64, 67, 0.3), 0px 1px 3px 1px rgba(60, 64, 67, 0.15);\n",
              "      fill: #174EA6;\n",
              "    }\n",
              "\n",
              "    [theme=dark] .colab-df-convert {\n",
              "      background-color: #3B4455;\n",
              "      fill: #D2E3FC;\n",
              "    }\n",
              "\n",
              "    [theme=dark] .colab-df-convert:hover {\n",
              "      background-color: #434B5C;\n",
              "      box-shadow: 0px 1px 3px 1px rgba(0, 0, 0, 0.15);\n",
              "      filter: drop-shadow(0px 1px 2px rgba(0, 0, 0, 0.3));\n",
              "      fill: #FFFFFF;\n",
              "    }\n",
              "  </style>\n",
              "\n",
              "      <script>\n",
              "        const buttonEl =\n",
              "          document.querySelector('#df-15fec5a8-7afa-4ad8-86a2-d7c18f9aa909 button.colab-df-convert');\n",
              "        buttonEl.style.display =\n",
              "          google.colab.kernel.accessAllowed ? 'block' : 'none';\n",
              "\n",
              "        async function convertToInteractive(key) {\n",
              "          const element = document.querySelector('#df-15fec5a8-7afa-4ad8-86a2-d7c18f9aa909');\n",
              "          const dataTable =\n",
              "            await google.colab.kernel.invokeFunction('convertToInteractive',\n",
              "                                                     [key], {});\n",
              "          if (!dataTable) return;\n",
              "\n",
              "          const docLinkHtml = 'Like what you see? Visit the ' +\n",
              "            '<a target=\"_blank\" href=https://colab.research.google.com/notebooks/data_table.ipynb>data table notebook</a>'\n",
              "            + ' to learn more about interactive tables.';\n",
              "          element.innerHTML = '';\n",
              "          dataTable['output_type'] = 'display_data';\n",
              "          await google.colab.output.renderOutput(dataTable, element);\n",
              "          const docLink = document.createElement('div');\n",
              "          docLink.innerHTML = docLinkHtml;\n",
              "          element.appendChild(docLink);\n",
              "        }\n",
              "      </script>\n",
              "    </div>\n",
              "  </div>\n",
              "  "
            ],
            "text/plain": [
              "                                  0                             1\n",
              "U1060  (132733, 1.2487400847192796)  (132740, 1.1415686000969056)\n",
              "U1037  (135070, 1.2444801290275425)  (132847, 1.2132792866142292)\n",
              "U1007  (135057, 1.0872791887111457)  (132572, 1.0345159682512415)\n",
              "U1045  (135051, 1.3795845238579956)   (135064, 1.211651679003422)\n",
              "U1053   (132754, 1.431145388834091)  (135053, 1.3530533826999422)\n",
              "U1049  (135051, 1.0461358226314001)  (135041, 0.9660403878985544)\n",
              "U1137  (132834, 1.3010121512694997)  (132951, 1.2810555684816376)\n",
              "U1062   (135062, 1.092380547062368)   (135085, 1.088222590169234)\n",
              "U1121   (135019, 1.193873488119213)  (132767, 1.1848507593098416)\n",
              "U1135  (135045, 1.0290445229541558)  (135041, 0.9679102131759019)\n",
              "U1046  (135085, 1.2707936942102254)  (135026, 1.1860200764460822)\n",
              "U1004  (135062, 1.2641213939614815)  (135032, 1.2362366600193968)\n",
              "U1104  (135032, 1.2293800126863081)   (135033, 1.161991771302326)\n",
              "U1109   (135085, 1.417091718355825)  (135038, 1.3538467726932828)\n",
              "U1134  (135085, 1.2896606100758634)   (135080, 1.180826605873973)\n",
              "U1026  (132561, 1.2588006393384588)  (132654, 1.1811291673988367)\n",
              "U1005  (135041, 1.2576252965452386)  (135050, 1.1702874326220778)\n",
              "U1133  (135001, 1.2705252927447692)  (134975, 1.2461743324242485)\n",
              "U1122   (135085, 1.296402663529981)  (135038, 1.2738753713158073)\n",
              "U1057  (132825, 1.2269891536974793)  (135043, 1.0134017475129193)\n",
              "U1095  (132723, 1.4827144350798773)  (135064, 1.0593313061106666)\n",
              "U1010   (135042, 1.190230600991474)  (135058, 1.1425679687421886)\n",
              "U1132  (135028, 1.4507389847073846)  (135052, 1.3293023297204845)\n",
              "U1018  (135066, 1.1894237506853322)  (135108, 1.1534666170606998)\n",
              "U1088  (135057, 1.4246213163580002)  (135108, 1.2322881140525956)\n",
              "U1084  (135085, 1.3127055865138577)  (135045, 1.2984149636321303)\n",
              "U1055  (132825, 1.4697034894410455)  (135048, 1.2522392834558314)\n",
              "U1030  (134996, 1.1539421097177227)  (135016, 1.1045189822011583)\n",
              "U1038  (132854, 1.1900592619939494)  (132862, 1.0405312976022079)\n",
              "U1089  (135072, 1.1363971762124592)  (135028, 1.1099746544258209)\n",
              "U1091  (135075, 1.2687281452879728)  (132572, 0.9853525285146275)\n",
              "U1036  (135085, 1.4180561536533538)   (135045, 1.353433505066603)\n",
              "U1083   (135034, 1.376121175795575)  (132723, 1.3413963974163683)\n",
              "U1014  (135082, 1.2244309745925197)  (132830, 1.1896100214020302)\n",
              "U1024  (135030, 1.3020292297081775)   (135039, 1.210027296299665)\n",
              "U1106  (132862, 1.1330066232989036)   (135062, 1.123457451928481)\n",
              "U1019  (135079, 1.0645161367552671)  (132834, 0.7148750022162746)\n",
              "U1073  (135062, 0.8942349189229344)  (132834, 0.6171712376341516)"
            ]
          },
          "metadata": {},
          "execution_count": 46
        }
      ]
    },
    {
      "cell_type": "code",
      "source": [
        "restaurant_info = pd.read_csv('/content/drive/MyDrive/data/geoplaces2.csv', usecols = ['placeID','name'], low_memory = True)"
      ],
      "metadata": {
        "id": "bb72kFeRo9dj"
      },
      "execution_count": null,
      "outputs": []
    },
    {
      "cell_type": "code",
      "source": [
        "restaurant_info"
      ],
      "metadata": {
        "colab": {
          "base_uri": "https://localhost:8080/",
          "height": 423
        },
        "id": "DhczHVbzp1hu",
        "outputId": "b8284369-53d9-49fe-fec2-d5b4107add65"
      },
      "execution_count": null,
      "outputs": [
        {
          "output_type": "execute_result",
          "data": {
            "text/html": [
              "\n",
              "  <div id=\"df-e5201f1a-d000-4b61-a88b-c8932dc44c18\">\n",
              "    <div class=\"colab-df-container\">\n",
              "      <div>\n",
              "<style scoped>\n",
              "    .dataframe tbody tr th:only-of-type {\n",
              "        vertical-align: middle;\n",
              "    }\n",
              "\n",
              "    .dataframe tbody tr th {\n",
              "        vertical-align: top;\n",
              "    }\n",
              "\n",
              "    .dataframe thead th {\n",
              "        text-align: right;\n",
              "    }\n",
              "</style>\n",
              "<table border=\"1\" class=\"dataframe\">\n",
              "  <thead>\n",
              "    <tr style=\"text-align: right;\">\n",
              "      <th></th>\n",
              "      <th>placeID</th>\n",
              "      <th>name</th>\n",
              "    </tr>\n",
              "  </thead>\n",
              "  <tbody>\n",
              "    <tr>\n",
              "      <th>0</th>\n",
              "      <td>134999</td>\n",
              "      <td>Kiku Cuernavaca</td>\n",
              "    </tr>\n",
              "    <tr>\n",
              "      <th>1</th>\n",
              "      <td>132825</td>\n",
              "      <td>puesto de tacos</td>\n",
              "    </tr>\n",
              "    <tr>\n",
              "      <th>2</th>\n",
              "      <td>135106</td>\n",
              "      <td>El Rinc�n de San Francisco</td>\n",
              "    </tr>\n",
              "    <tr>\n",
              "      <th>3</th>\n",
              "      <td>132667</td>\n",
              "      <td>little pizza Emilio Portes Gil</td>\n",
              "    </tr>\n",
              "    <tr>\n",
              "      <th>4</th>\n",
              "      <td>132613</td>\n",
              "      <td>carnitas_mata</td>\n",
              "    </tr>\n",
              "    <tr>\n",
              "      <th>...</th>\n",
              "      <td>...</td>\n",
              "      <td>...</td>\n",
              "    </tr>\n",
              "    <tr>\n",
              "      <th>125</th>\n",
              "      <td>132866</td>\n",
              "      <td>Chaires</td>\n",
              "    </tr>\n",
              "    <tr>\n",
              "      <th>126</th>\n",
              "      <td>135072</td>\n",
              "      <td>Sushi Itto</td>\n",
              "    </tr>\n",
              "    <tr>\n",
              "      <th>127</th>\n",
              "      <td>135109</td>\n",
              "      <td>Paniroles</td>\n",
              "    </tr>\n",
              "    <tr>\n",
              "      <th>128</th>\n",
              "      <td>135019</td>\n",
              "      <td>Restaurant Bar Coty y Pablo</td>\n",
              "    </tr>\n",
              "    <tr>\n",
              "      <th>129</th>\n",
              "      <td>132877</td>\n",
              "      <td>sirloin stockade</td>\n",
              "    </tr>\n",
              "  </tbody>\n",
              "</table>\n",
              "<p>130 rows × 2 columns</p>\n",
              "</div>\n",
              "      <button class=\"colab-df-convert\" onclick=\"convertToInteractive('df-e5201f1a-d000-4b61-a88b-c8932dc44c18')\"\n",
              "              title=\"Convert this dataframe to an interactive table.\"\n",
              "              style=\"display:none;\">\n",
              "        \n",
              "  <svg xmlns=\"http://www.w3.org/2000/svg\" height=\"24px\"viewBox=\"0 0 24 24\"\n",
              "       width=\"24px\">\n",
              "    <path d=\"M0 0h24v24H0V0z\" fill=\"none\"/>\n",
              "    <path d=\"M18.56 5.44l.94 2.06.94-2.06 2.06-.94-2.06-.94-.94-2.06-.94 2.06-2.06.94zm-11 1L8.5 8.5l.94-2.06 2.06-.94-2.06-.94L8.5 2.5l-.94 2.06-2.06.94zm10 10l.94 2.06.94-2.06 2.06-.94-2.06-.94-.94-2.06-.94 2.06-2.06.94z\"/><path d=\"M17.41 7.96l-1.37-1.37c-.4-.4-.92-.59-1.43-.59-.52 0-1.04.2-1.43.59L10.3 9.45l-7.72 7.72c-.78.78-.78 2.05 0 2.83L4 21.41c.39.39.9.59 1.41.59.51 0 1.02-.2 1.41-.59l7.78-7.78 2.81-2.81c.8-.78.8-2.07 0-2.86zM5.41 20L4 18.59l7.72-7.72 1.47 1.35L5.41 20z\"/>\n",
              "  </svg>\n",
              "      </button>\n",
              "      \n",
              "  <style>\n",
              "    .colab-df-container {\n",
              "      display:flex;\n",
              "      flex-wrap:wrap;\n",
              "      gap: 12px;\n",
              "    }\n",
              "\n",
              "    .colab-df-convert {\n",
              "      background-color: #E8F0FE;\n",
              "      border: none;\n",
              "      border-radius: 50%;\n",
              "      cursor: pointer;\n",
              "      display: none;\n",
              "      fill: #1967D2;\n",
              "      height: 32px;\n",
              "      padding: 0 0 0 0;\n",
              "      width: 32px;\n",
              "    }\n",
              "\n",
              "    .colab-df-convert:hover {\n",
              "      background-color: #E2EBFA;\n",
              "      box-shadow: 0px 1px 2px rgba(60, 64, 67, 0.3), 0px 1px 3px 1px rgba(60, 64, 67, 0.15);\n",
              "      fill: #174EA6;\n",
              "    }\n",
              "\n",
              "    [theme=dark] .colab-df-convert {\n",
              "      background-color: #3B4455;\n",
              "      fill: #D2E3FC;\n",
              "    }\n",
              "\n",
              "    [theme=dark] .colab-df-convert:hover {\n",
              "      background-color: #434B5C;\n",
              "      box-shadow: 0px 1px 3px 1px rgba(0, 0, 0, 0.15);\n",
              "      filter: drop-shadow(0px 1px 2px rgba(0, 0, 0, 0.3));\n",
              "      fill: #FFFFFF;\n",
              "    }\n",
              "  </style>\n",
              "\n",
              "      <script>\n",
              "        const buttonEl =\n",
              "          document.querySelector('#df-e5201f1a-d000-4b61-a88b-c8932dc44c18 button.colab-df-convert');\n",
              "        buttonEl.style.display =\n",
              "          google.colab.kernel.accessAllowed ? 'block' : 'none';\n",
              "\n",
              "        async function convertToInteractive(key) {\n",
              "          const element = document.querySelector('#df-e5201f1a-d000-4b61-a88b-c8932dc44c18');\n",
              "          const dataTable =\n",
              "            await google.colab.kernel.invokeFunction('convertToInteractive',\n",
              "                                                     [key], {});\n",
              "          if (!dataTable) return;\n",
              "\n",
              "          const docLinkHtml = 'Like what you see? Visit the ' +\n",
              "            '<a target=\"_blank\" href=https://colab.research.google.com/notebooks/data_table.ipynb>data table notebook</a>'\n",
              "            + ' to learn more about interactive tables.';\n",
              "          element.innerHTML = '';\n",
              "          dataTable['output_type'] = 'display_data';\n",
              "          await google.colab.output.renderOutput(dataTable, element);\n",
              "          const docLink = document.createElement('div');\n",
              "          docLink.innerHTML = docLinkHtml;\n",
              "          element.appendChild(docLink);\n",
              "        }\n",
              "      </script>\n",
              "    </div>\n",
              "  </div>\n",
              "  "
            ],
            "text/plain": [
              "     placeID                            name\n",
              "0     134999                 Kiku Cuernavaca\n",
              "1     132825                 puesto de tacos\n",
              "2     135106      El Rinc�n de San Francisco\n",
              "3     132667  little pizza Emilio Portes Gil\n",
              "4     132613                   carnitas_mata\n",
              "..       ...                             ...\n",
              "125   132866                         Chaires\n",
              "126   135072                      Sushi Itto\n",
              "127   135109                       Paniroles\n",
              "128   135019     Restaurant Bar Coty y Pablo\n",
              "129   132877                sirloin stockade\n",
              "\n",
              "[130 rows x 2 columns]"
            ]
          },
          "metadata": {},
          "execution_count": 58
        }
      ]
    },
    {
      "cell_type": "code",
      "source": [
        ""
      ],
      "metadata": {
        "colab": {
          "base_uri": "https://localhost:8080/"
        },
        "id": "AkeK7uIisF4C",
        "outputId": "587633cf-c9c2-44f1-eb32-92dc0ce0c26b"
      },
      "execution_count": null,
      "outputs": [
        {
          "output_type": "execute_result",
          "data": {
            "text/plain": [
              "pandas.core.series.Series"
            ]
          },
          "metadata": {},
          "execution_count": 49
        }
      ]
    },
    {
      "cell_type": "code",
      "source": [
        "def get_predictions(user_id):\n",
        "    results = tmp_transpose.loc[user_id]\n",
        "    return results\n",
        "\n",
        "user_id = 'U1073'\n",
        "results = get_predictions(user_id)\n",
        "results"
      ],
      "metadata": {
        "colab": {
          "base_uri": "https://localhost:8080/"
        },
        "id": "8wDkzkRdqO_F",
        "outputId": "69cf5f5c-288e-4d90-dcc1-0477169d288d"
      },
      "execution_count": null,
      "outputs": [
        {
          "output_type": "execute_result",
          "data": {
            "text/plain": [
              "0    (135062, 0.8942349189229344)\n",
              "1    (132834, 0.6171712376341516)\n",
              "Name: U1073, dtype: object"
            ]
          },
          "metadata": {},
          "execution_count": 59
        }
      ]
    },
    {
      "cell_type": "code",
      "source": [
        "def findRestaurantInfo(id):\n",
        "    return print(restaurant_info[restaurant_info['placeID']==id])"
      ],
      "metadata": {
        "id": "ohvvO3dOrUSQ"
      },
      "execution_count": null,
      "outputs": []
    },
    {
      "cell_type": "code",
      "source": [
        "# Get restaurants suggested\n",
        "for item in results:\n",
        "    findRestaurantInfo(item[0])"
      ],
      "metadata": {
        "colab": {
          "base_uri": "https://localhost:8080/"
        },
        "id": "tUBjMrvvsxqo",
        "outputId": "c3bbacd6-5ba0-42be-e98c-6be647cab5b5"
      },
      "execution_count": null,
      "outputs": [
        {
          "output_type": "stream",
          "name": "stdout",
          "text": [
            "     placeID                           name\n",
            "113   135062  Restaurante El Cielo Potosino\n",
            "    placeID                 name\n",
            "80   132834  Gorditas Doa Gloria\n"
          ]
        }
      ]
    },
    {
      "cell_type": "markdown",
      "source": [
        "**Item Based Filtering**\n",
        "\n",
        "Not too sure how to work it out to allow recommendations based on restaurant name. Suppose to use distance?"
      ],
      "metadata": {
        "id": "sHLSsCuB07dj"
      }
    },
    {
      "cell_type": "code",
      "source": [
        "restaurant_name = input()"
      ],
      "metadata": {
        "colab": {
          "base_uri": "https://localhost:8080/"
        },
        "id": "9C-_FX9NvUCJ",
        "outputId": "2bf0b91d-dd01-4bd4-9560-129524bf4981"
      },
      "execution_count": null,
      "outputs": [
        {
          "name": "stdout",
          "output_type": "stream",
          "text": [
            "little pizza Emilio Portes Gil\n"
          ]
        }
      ]
    },
    {
      "cell_type": "code",
      "source": [
        "def findRestaurantInfo2(name):\n",
        "    return restaurant_info[restaurant_info['name']==name]['placeID']\n",
        "\n",
        "visitedrestaurantID = findRestaurantInfo2(restaurant_name)"
      ],
      "metadata": {
        "id": "v4h9ZxFqxQF6"
      },
      "execution_count": null,
      "outputs": []
    },
    {
      "cell_type": "code",
      "source": [
        "from collections import defaultdict\n",
        "\n",
        "def get_all_predictions(predictions):\n",
        "    \n",
        "    # First map the predictions to each places.\n",
        "    top_n = defaultdict(list)    \n",
        "    for uid, iid, true_r, est, _ in predictions:\n",
        "        top_n[iid].append((uid, est))\n",
        "    # Then sort the predictions for each places\n",
        "    for iid, user_ratings in top_n.items():\n",
        "        user_ratings.sort(key=lambda x: x[1], reverse=True)\n",
        "    return top_n\n",
        "\n",
        "all_pred = get_all_predictions(predictions)"
      ],
      "metadata": {
        "id": "FSAVASGczIS7"
      },
      "execution_count": null,
      "outputs": []
    },
    {
      "cell_type": "code",
      "source": [
        "all_pred"
      ],
      "metadata": {
        "colab": {
          "base_uri": "https://localhost:8080/"
        },
        "id": "sVYGnVH9z1sG",
        "outputId": "81254f26-d928-4ecd-af88-6132f821e9e0"
      },
      "execution_count": null,
      "outputs": [
        {
          "output_type": "execute_result",
          "data": {
            "text/plain": [
              "defaultdict(list,\n",
              "            {132561: [('U1026', 1.2588006393384588)],\n",
              "             132572: [('U1007', 1.0345159682512415),\n",
              "              ('U1091', 0.9853525285146275)],\n",
              "             132594: [('U1123', 1.1045020834234347)],\n",
              "             132608: [('U1050', 1.0180243972715206)],\n",
              "             132609: [('U1070', 1.1519503298199962)],\n",
              "             132654: [('U1026', 1.1811291673988367),\n",
              "              ('U1065', 1.178545649998284)],\n",
              "             132667: [('U1063', 1.1780743917038023)],\n",
              "             132717: [('U1023', 1.1705386161541684)],\n",
              "             132723: [('U1095', 1.4827144350798773),\n",
              "              ('U1083', 1.3413963974163683),\n",
              "              ('U1092', 1.1062268736978926)],\n",
              "             132732: [('U1043', 0.9669985367924446)],\n",
              "             132733: [('U1060', 1.2487400847192796),\n",
              "              ('U1103', 1.0365238917258235)],\n",
              "             132740: [('U1060', 1.1415686000969056)],\n",
              "             132754: [('U1053', 1.431145388834091)],\n",
              "             132755: [('U1003', 1.2528260869461272)],\n",
              "             132767: [('U1121', 1.1848507593098416)],\n",
              "             132768: [('U1079', 1.2849265919373034)],\n",
              "             132773: [('U1035', 1.2274975150200398),\n",
              "              ('U1117', 1.023886651885723)],\n",
              "             132825: [('U1055', 1.4697034894410455),\n",
              "              ('U1109', 1.3067798359995597),\n",
              "              ('U1057', 1.2269891536974793)],\n",
              "             132830: [('U1014', 1.1896100214020302)],\n",
              "             132834: [('U1137', 1.3010121512694997),\n",
              "              ('U1104', 1.0208171790786447),\n",
              "              ('U1019', 0.7148750022162746),\n",
              "              ('U1073', 0.6171712376341516)],\n",
              "             132845: [('U1015', 1.0857608115148507)],\n",
              "             132847: [('U1037', 1.2132792866142292)],\n",
              "             132854: [('U1038', 1.1900592619939494)],\n",
              "             132856: [('U1109', 1.2788522920671732)],\n",
              "             132862: [('U1029', 1.315232153843547),\n",
              "              ('U1106', 1.1330066232989036),\n",
              "              ('U1038', 1.0405312976022079)],\n",
              "             132869: [('U1131', 1.0905109855183857)],\n",
              "             132870: [('U1111', 1.1421032857968434)],\n",
              "             132885: [('U1098', 1.170505819314554)],\n",
              "             132921: [('U1061', 1.3772477639443554),\n",
              "              ('U1033', 1.2831344895955927),\n",
              "              ('U1046', 1.1503605326774686)],\n",
              "             132951: [('U1137', 1.2810555684816376),\n",
              "              ('U1027', 0.9867804318902736)],\n",
              "             132955: [('U1059', 1.4089705137372983)],\n",
              "             134975: [('U1133', 1.2461743324242485),\n",
              "              ('U1017', 1.0741044367672306)],\n",
              "             134983: [('U1012', 1.028890412562654)],\n",
              "             134996: [('U1042', 1.2553260967340638),\n",
              "              ('U1030', 1.1539421097177227)],\n",
              "             135001: [('U1133', 1.2705252927447692),\n",
              "              ('U1118', 1.1064005459707622)],\n",
              "             135016: [('U1030', 1.1045189822011583)],\n",
              "             135019: [('U1121', 1.193873488119213),\n",
              "              ('U1093', 1.1063418662204225),\n",
              "              ('U1133', 1.0794428268737288)],\n",
              "             135026: [('U1046', 1.1860200764460822)],\n",
              "             135028: [('U1132', 1.4507389847073846),\n",
              "              ('U1089', 1.1099746544258209)],\n",
              "             135030: [('U1024', 1.3020292297081775)],\n",
              "             135032: [('U1053', 1.256892760481234),\n",
              "              ('U1004', 1.2362366600193968),\n",
              "              ('U1104', 1.2293800126863081)],\n",
              "             135033: [('U1022', 1.251658970110006),\n",
              "              ('U1104', 1.161991771302326)],\n",
              "             135034: [('U1083', 1.376121175795575),\n",
              "              ('U1097', 1.3644974362536466)],\n",
              "             135035: [('U1034', 1.1471163315574728)],\n",
              "             135038: [('U1109', 1.3538467726932828),\n",
              "              ('U1122', 1.2738753713158073),\n",
              "              ('U1116', 1.2422483634304482),\n",
              "              ('U1062', 1.0836961957189617)],\n",
              "             135039: [('U1054', 1.4194620245317549),\n",
              "              ('U1024', 1.210027296299665)],\n",
              "             135041: [('U1005', 1.2576252965452386),\n",
              "              ('U1135', 0.9679102131759019),\n",
              "              ('U1049', 0.9660403878985544)],\n",
              "             135042: [('U1016', 1.4158462480673355),\n",
              "              ('U1064', 1.2348737096631461),\n",
              "              ('U1010', 1.190230600991474)],\n",
              "             135043: [('U1057', 1.0134017475129193)],\n",
              "             135045: [('U1036', 1.353433505066603),\n",
              "              ('U1084', 1.2984149636321303),\n",
              "              ('U1086', 1.2502952098901652),\n",
              "              ('U1120', 1.205855550432055),\n",
              "              ('U1135', 1.0290445229541558)],\n",
              "             135047: [('U1053', 1.2352242007329324),\n",
              "              ('U1104', 0.9822901585079021)],\n",
              "             135048: [('U1055', 1.2522392834558314)],\n",
              "             135050: [('U1005', 1.1702874326220778)],\n",
              "             135051: [('U1045', 1.3795845238579956),\n",
              "              ('U1049', 1.0461358226314001)],\n",
              "             135052: [('U1132', 1.3293023297204845)],\n",
              "             135053: [('U1053', 1.3530533826999422),\n",
              "              ('U1062', 1.0269949515978316)],\n",
              "             135055: [('U1136', 1.4908450397084092)],\n",
              "             135057: [('U1088', 1.4246213163580002),\n",
              "              ('U1007', 1.0872791887111457),\n",
              "              ('U1113', 0.9408144426661227)],\n",
              "             135058: [('U1046', 1.1481226598792134),\n",
              "              ('U1010', 1.1425679687421886),\n",
              "              ('U1095', 1.053076045559985),\n",
              "              ('U1135', 0.8604713161092334)],\n",
              "             135060: [('U1053', 1.3012397187527311),\n",
              "              ('U1135', 0.9518962507730637)],\n",
              "             135062: [('U1053', 1.3354427418037806),\n",
              "              ('U1004', 1.2641213939614815),\n",
              "              ('U1106', 1.123457451928481),\n",
              "              ('U1062', 1.092380547062368),\n",
              "              ('U1073', 0.8942349189229344)],\n",
              "             135064: [('U1045', 1.211651679003422),\n",
              "              ('U1010', 1.132698932822473),\n",
              "              ('U1095', 1.0593313061106666),\n",
              "              ('U1112', 0.8755182163314258)],\n",
              "             135065: [('U1122', 1.19192053298828),\n",
              "              ('U1114', 0.9341834837685769)],\n",
              "             135066: [('U1018', 1.1894237506853322)],\n",
              "             135069: [('U1018', 1.1433107542095737),\n",
              "              ('U1124', 1.0038604585783348)],\n",
              "             135070: [('U1037', 1.2444801290275425)],\n",
              "             135071: [('U1025', 1.324943810569689),\n",
              "              ('U1037', 1.1871235894017258)],\n",
              "             135072: [('U1089', 1.1363971762124592)],\n",
              "             135075: [('U1108', 1.441279495094493),\n",
              "              ('U1091', 1.2687281452879728)],\n",
              "             135076: [('U1056', 1.4449875473017906),\n",
              "              ('U1099', 1.1391807529612699)],\n",
              "             135079: [('U1019', 1.0645161367552671)],\n",
              "             135080: [('U1134', 1.180826605873973)],\n",
              "             135081: [('U1085', 1.2993366034540679),\n",
              "              ('U1075', 1.251618939344826)],\n",
              "             135082: [('U1014', 1.2244309745925197)],\n",
              "             135085: [('U1036', 1.4180561536533538),\n",
              "              ('U1109', 1.417091718355825),\n",
              "              ('U1084', 1.3127055865138577),\n",
              "              ('U1122', 1.296402663529981),\n",
              "              ('U1134', 1.2896606100758634),\n",
              "              ('U1046', 1.2707936942102254),\n",
              "              ('U1062', 1.088222590169234)],\n",
              "             135088: [('U1072', 1.2154357171054981)],\n",
              "             135104: [('U1087', 1.2122091903527876)],\n",
              "             135106: [('U1135', 0.9039193219573164)],\n",
              "             135108: [('U1088', 1.2322881140525956),\n",
              "              ('U1018', 1.1534666170606998),\n",
              "              ('U1126', 1.1025351156239607)],\n",
              "             135109: [('U1051', 1.1548308494596509)]})"
            ]
          },
          "metadata": {},
          "execution_count": 91
        }
      ]
    },
    {
      "cell_type": "code",
      "source": [
        "new_all_pred=dict(filter(lambda elem: len(elem[1]) != 1, all_pred.items()))"
      ],
      "metadata": {
        "id": "IA6cjeBgz5Bf"
      },
      "execution_count": null,
      "outputs": []
    },
    {
      "cell_type": "code",
      "source": [
        "n = 2\n",
        "for iid, user_ratings in new_all_pred.items():\n",
        "    user_ratings.sort(key=lambda x: x[1], reverse=True)\n",
        "    new_all_pred[iid] = user_ratings[:n]\n",
        "    \n",
        "tmp = pd.DataFrame.from_dict(new_all_pred)\n",
        "tmp_transpose = tmp.transpose()"
      ],
      "metadata": {
        "id": "oXpsLwo3z_oo"
      },
      "execution_count": null,
      "outputs": []
    },
    {
      "cell_type": "code",
      "source": [
        "tmp_transpose"
      ],
      "metadata": {
        "colab": {
          "base_uri": "https://localhost:8080/",
          "height": 1000
        },
        "id": "Pv4TMlUg0QHi",
        "outputId": "45448955-b5e8-4abb-e0c2-6bd74fbfe6c0"
      },
      "execution_count": null,
      "outputs": [
        {
          "output_type": "execute_result",
          "data": {
            "text/html": [
              "\n",
              "  <div id=\"df-b5667f9e-843e-477d-9bf9-c021ad007a42\">\n",
              "    <div class=\"colab-df-container\">\n",
              "      <div>\n",
              "<style scoped>\n",
              "    .dataframe tbody tr th:only-of-type {\n",
              "        vertical-align: middle;\n",
              "    }\n",
              "\n",
              "    .dataframe tbody tr th {\n",
              "        vertical-align: top;\n",
              "    }\n",
              "\n",
              "    .dataframe thead th {\n",
              "        text-align: right;\n",
              "    }\n",
              "</style>\n",
              "<table border=\"1\" class=\"dataframe\">\n",
              "  <thead>\n",
              "    <tr style=\"text-align: right;\">\n",
              "      <th></th>\n",
              "      <th>0</th>\n",
              "      <th>1</th>\n",
              "    </tr>\n",
              "  </thead>\n",
              "  <tbody>\n",
              "    <tr>\n",
              "      <th>132723</th>\n",
              "      <td>(U1095, 1.4827144350798773)</td>\n",
              "      <td>(U1083, 1.3413963974163683)</td>\n",
              "    </tr>\n",
              "    <tr>\n",
              "      <th>132733</th>\n",
              "      <td>(U1060, 1.2487400847192796)</td>\n",
              "      <td>(U1103, 1.0365238917258235)</td>\n",
              "    </tr>\n",
              "    <tr>\n",
              "      <th>135071</th>\n",
              "      <td>(U1025, 1.324943810569689)</td>\n",
              "      <td>(U1037, 1.1871235894017258)</td>\n",
              "    </tr>\n",
              "    <tr>\n",
              "      <th>135001</th>\n",
              "      <td>(U1133, 1.2705252927447692)</td>\n",
              "      <td>(U1118, 1.1064005459707622)</td>\n",
              "    </tr>\n",
              "    <tr>\n",
              "      <th>132862</th>\n",
              "      <td>(U1029, 1.315232153843547)</td>\n",
              "      <td>(U1106, 1.1330066232989036)</td>\n",
              "    </tr>\n",
              "    <tr>\n",
              "      <th>132572</th>\n",
              "      <td>(U1007, 1.0345159682512415)</td>\n",
              "      <td>(U1091, 0.9853525285146275)</td>\n",
              "    </tr>\n",
              "    <tr>\n",
              "      <th>135051</th>\n",
              "      <td>(U1045, 1.3795845238579956)</td>\n",
              "      <td>(U1049, 1.0461358226314001)</td>\n",
              "    </tr>\n",
              "    <tr>\n",
              "      <th>135060</th>\n",
              "      <td>(U1053, 1.3012397187527311)</td>\n",
              "      <td>(U1135, 0.9518962507730637)</td>\n",
              "    </tr>\n",
              "    <tr>\n",
              "      <th>135019</th>\n",
              "      <td>(U1121, 1.193873488119213)</td>\n",
              "      <td>(U1093, 1.1063418662204225)</td>\n",
              "    </tr>\n",
              "    <tr>\n",
              "      <th>135057</th>\n",
              "      <td>(U1088, 1.4246213163580002)</td>\n",
              "      <td>(U1007, 1.0872791887111457)</td>\n",
              "    </tr>\n",
              "    <tr>\n",
              "      <th>132951</th>\n",
              "      <td>(U1137, 1.2810555684816376)</td>\n",
              "      <td>(U1027, 0.9867804318902736)</td>\n",
              "    </tr>\n",
              "    <tr>\n",
              "      <th>135085</th>\n",
              "      <td>(U1036, 1.4180561536533538)</td>\n",
              "      <td>(U1109, 1.417091718355825)</td>\n",
              "    </tr>\n",
              "    <tr>\n",
              "      <th>135039</th>\n",
              "      <td>(U1054, 1.4194620245317549)</td>\n",
              "      <td>(U1024, 1.210027296299665)</td>\n",
              "    </tr>\n",
              "    <tr>\n",
              "      <th>135032</th>\n",
              "      <td>(U1053, 1.256892760481234)</td>\n",
              "      <td>(U1004, 1.2362366600193968)</td>\n",
              "    </tr>\n",
              "    <tr>\n",
              "      <th>132773</th>\n",
              "      <td>(U1035, 1.2274975150200398)</td>\n",
              "      <td>(U1117, 1.023886651885723)</td>\n",
              "    </tr>\n",
              "    <tr>\n",
              "      <th>135038</th>\n",
              "      <td>(U1109, 1.3538467726932828)</td>\n",
              "      <td>(U1122, 1.2738753713158073)</td>\n",
              "    </tr>\n",
              "    <tr>\n",
              "      <th>132654</th>\n",
              "      <td>(U1026, 1.1811291673988367)</td>\n",
              "      <td>(U1065, 1.178545649998284)</td>\n",
              "    </tr>\n",
              "    <tr>\n",
              "      <th>135041</th>\n",
              "      <td>(U1005, 1.2576252965452386)</td>\n",
              "      <td>(U1135, 0.9679102131759019)</td>\n",
              "    </tr>\n",
              "    <tr>\n",
              "      <th>135033</th>\n",
              "      <td>(U1022, 1.251658970110006)</td>\n",
              "      <td>(U1104, 1.161991771302326)</td>\n",
              "    </tr>\n",
              "    <tr>\n",
              "      <th>132825</th>\n",
              "      <td>(U1055, 1.4697034894410455)</td>\n",
              "      <td>(U1109, 1.3067798359995597)</td>\n",
              "    </tr>\n",
              "    <tr>\n",
              "      <th>135045</th>\n",
              "      <td>(U1036, 1.353433505066603)</td>\n",
              "      <td>(U1084, 1.2984149636321303)</td>\n",
              "    </tr>\n",
              "    <tr>\n",
              "      <th>135058</th>\n",
              "      <td>(U1046, 1.1481226598792134)</td>\n",
              "      <td>(U1010, 1.1425679687421886)</td>\n",
              "    </tr>\n",
              "    <tr>\n",
              "      <th>135062</th>\n",
              "      <td>(U1053, 1.3354427418037806)</td>\n",
              "      <td>(U1004, 1.2641213939614815)</td>\n",
              "    </tr>\n",
              "    <tr>\n",
              "      <th>135081</th>\n",
              "      <td>(U1085, 1.2993366034540679)</td>\n",
              "      <td>(U1075, 1.251618939344826)</td>\n",
              "    </tr>\n",
              "    <tr>\n",
              "      <th>135069</th>\n",
              "      <td>(U1018, 1.1433107542095737)</td>\n",
              "      <td>(U1124, 1.0038604585783348)</td>\n",
              "    </tr>\n",
              "    <tr>\n",
              "      <th>135047</th>\n",
              "      <td>(U1053, 1.2352242007329324)</td>\n",
              "      <td>(U1104, 0.9822901585079021)</td>\n",
              "    </tr>\n",
              "    <tr>\n",
              "      <th>132834</th>\n",
              "      <td>(U1137, 1.3010121512694997)</td>\n",
              "      <td>(U1104, 1.0208171790786447)</td>\n",
              "    </tr>\n",
              "    <tr>\n",
              "      <th>135042</th>\n",
              "      <td>(U1016, 1.4158462480673355)</td>\n",
              "      <td>(U1064, 1.2348737096631461)</td>\n",
              "    </tr>\n",
              "    <tr>\n",
              "      <th>134975</th>\n",
              "      <td>(U1133, 1.2461743324242485)</td>\n",
              "      <td>(U1017, 1.0741044367672306)</td>\n",
              "    </tr>\n",
              "    <tr>\n",
              "      <th>132921</th>\n",
              "      <td>(U1061, 1.3772477639443554)</td>\n",
              "      <td>(U1033, 1.2831344895955927)</td>\n",
              "    </tr>\n",
              "    <tr>\n",
              "      <th>134996</th>\n",
              "      <td>(U1042, 1.2553260967340638)</td>\n",
              "      <td>(U1030, 1.1539421097177227)</td>\n",
              "    </tr>\n",
              "    <tr>\n",
              "      <th>135028</th>\n",
              "      <td>(U1132, 1.4507389847073846)</td>\n",
              "      <td>(U1089, 1.1099746544258209)</td>\n",
              "    </tr>\n",
              "    <tr>\n",
              "      <th>135053</th>\n",
              "      <td>(U1053, 1.3530533826999422)</td>\n",
              "      <td>(U1062, 1.0269949515978316)</td>\n",
              "    </tr>\n",
              "    <tr>\n",
              "      <th>135065</th>\n",
              "      <td>(U1122, 1.19192053298828)</td>\n",
              "      <td>(U1114, 0.9341834837685769)</td>\n",
              "    </tr>\n",
              "    <tr>\n",
              "      <th>135108</th>\n",
              "      <td>(U1088, 1.2322881140525956)</td>\n",
              "      <td>(U1018, 1.1534666170606998)</td>\n",
              "    </tr>\n",
              "    <tr>\n",
              "      <th>135064</th>\n",
              "      <td>(U1045, 1.211651679003422)</td>\n",
              "      <td>(U1010, 1.132698932822473)</td>\n",
              "    </tr>\n",
              "    <tr>\n",
              "      <th>135034</th>\n",
              "      <td>(U1083, 1.376121175795575)</td>\n",
              "      <td>(U1097, 1.3644974362536466)</td>\n",
              "    </tr>\n",
              "    <tr>\n",
              "      <th>135076</th>\n",
              "      <td>(U1056, 1.4449875473017906)</td>\n",
              "      <td>(U1099, 1.1391807529612699)</td>\n",
              "    </tr>\n",
              "    <tr>\n",
              "      <th>135075</th>\n",
              "      <td>(U1108, 1.441279495094493)</td>\n",
              "      <td>(U1091, 1.2687281452879728)</td>\n",
              "    </tr>\n",
              "  </tbody>\n",
              "</table>\n",
              "</div>\n",
              "      <button class=\"colab-df-convert\" onclick=\"convertToInteractive('df-b5667f9e-843e-477d-9bf9-c021ad007a42')\"\n",
              "              title=\"Convert this dataframe to an interactive table.\"\n",
              "              style=\"display:none;\">\n",
              "        \n",
              "  <svg xmlns=\"http://www.w3.org/2000/svg\" height=\"24px\"viewBox=\"0 0 24 24\"\n",
              "       width=\"24px\">\n",
              "    <path d=\"M0 0h24v24H0V0z\" fill=\"none\"/>\n",
              "    <path d=\"M18.56 5.44l.94 2.06.94-2.06 2.06-.94-2.06-.94-.94-2.06-.94 2.06-2.06.94zm-11 1L8.5 8.5l.94-2.06 2.06-.94-2.06-.94L8.5 2.5l-.94 2.06-2.06.94zm10 10l.94 2.06.94-2.06 2.06-.94-2.06-.94-.94-2.06-.94 2.06-2.06.94z\"/><path d=\"M17.41 7.96l-1.37-1.37c-.4-.4-.92-.59-1.43-.59-.52 0-1.04.2-1.43.59L10.3 9.45l-7.72 7.72c-.78.78-.78 2.05 0 2.83L4 21.41c.39.39.9.59 1.41.59.51 0 1.02-.2 1.41-.59l7.78-7.78 2.81-2.81c.8-.78.8-2.07 0-2.86zM5.41 20L4 18.59l7.72-7.72 1.47 1.35L5.41 20z\"/>\n",
              "  </svg>\n",
              "      </button>\n",
              "      \n",
              "  <style>\n",
              "    .colab-df-container {\n",
              "      display:flex;\n",
              "      flex-wrap:wrap;\n",
              "      gap: 12px;\n",
              "    }\n",
              "\n",
              "    .colab-df-convert {\n",
              "      background-color: #E8F0FE;\n",
              "      border: none;\n",
              "      border-radius: 50%;\n",
              "      cursor: pointer;\n",
              "      display: none;\n",
              "      fill: #1967D2;\n",
              "      height: 32px;\n",
              "      padding: 0 0 0 0;\n",
              "      width: 32px;\n",
              "    }\n",
              "\n",
              "    .colab-df-convert:hover {\n",
              "      background-color: #E2EBFA;\n",
              "      box-shadow: 0px 1px 2px rgba(60, 64, 67, 0.3), 0px 1px 3px 1px rgba(60, 64, 67, 0.15);\n",
              "      fill: #174EA6;\n",
              "    }\n",
              "\n",
              "    [theme=dark] .colab-df-convert {\n",
              "      background-color: #3B4455;\n",
              "      fill: #D2E3FC;\n",
              "    }\n",
              "\n",
              "    [theme=dark] .colab-df-convert:hover {\n",
              "      background-color: #434B5C;\n",
              "      box-shadow: 0px 1px 3px 1px rgba(0, 0, 0, 0.15);\n",
              "      filter: drop-shadow(0px 1px 2px rgba(0, 0, 0, 0.3));\n",
              "      fill: #FFFFFF;\n",
              "    }\n",
              "  </style>\n",
              "\n",
              "      <script>\n",
              "        const buttonEl =\n",
              "          document.querySelector('#df-b5667f9e-843e-477d-9bf9-c021ad007a42 button.colab-df-convert');\n",
              "        buttonEl.style.display =\n",
              "          google.colab.kernel.accessAllowed ? 'block' : 'none';\n",
              "\n",
              "        async function convertToInteractive(key) {\n",
              "          const element = document.querySelector('#df-b5667f9e-843e-477d-9bf9-c021ad007a42');\n",
              "          const dataTable =\n",
              "            await google.colab.kernel.invokeFunction('convertToInteractive',\n",
              "                                                     [key], {});\n",
              "          if (!dataTable) return;\n",
              "\n",
              "          const docLinkHtml = 'Like what you see? Visit the ' +\n",
              "            '<a target=\"_blank\" href=https://colab.research.google.com/notebooks/data_table.ipynb>data table notebook</a>'\n",
              "            + ' to learn more about interactive tables.';\n",
              "          element.innerHTML = '';\n",
              "          dataTable['output_type'] = 'display_data';\n",
              "          await google.colab.output.renderOutput(dataTable, element);\n",
              "          const docLink = document.createElement('div');\n",
              "          docLink.innerHTML = docLinkHtml;\n",
              "          element.appendChild(docLink);\n",
              "        }\n",
              "      </script>\n",
              "    </div>\n",
              "  </div>\n",
              "  "
            ],
            "text/plain": [
              "                                  0                            1\n",
              "132723  (U1095, 1.4827144350798773)  (U1083, 1.3413963974163683)\n",
              "132733  (U1060, 1.2487400847192796)  (U1103, 1.0365238917258235)\n",
              "135071   (U1025, 1.324943810569689)  (U1037, 1.1871235894017258)\n",
              "135001  (U1133, 1.2705252927447692)  (U1118, 1.1064005459707622)\n",
              "132862   (U1029, 1.315232153843547)  (U1106, 1.1330066232989036)\n",
              "132572  (U1007, 1.0345159682512415)  (U1091, 0.9853525285146275)\n",
              "135051  (U1045, 1.3795845238579956)  (U1049, 1.0461358226314001)\n",
              "135060  (U1053, 1.3012397187527311)  (U1135, 0.9518962507730637)\n",
              "135019   (U1121, 1.193873488119213)  (U1093, 1.1063418662204225)\n",
              "135057  (U1088, 1.4246213163580002)  (U1007, 1.0872791887111457)\n",
              "132951  (U1137, 1.2810555684816376)  (U1027, 0.9867804318902736)\n",
              "135085  (U1036, 1.4180561536533538)   (U1109, 1.417091718355825)\n",
              "135039  (U1054, 1.4194620245317549)   (U1024, 1.210027296299665)\n",
              "135032   (U1053, 1.256892760481234)  (U1004, 1.2362366600193968)\n",
              "132773  (U1035, 1.2274975150200398)   (U1117, 1.023886651885723)\n",
              "135038  (U1109, 1.3538467726932828)  (U1122, 1.2738753713158073)\n",
              "132654  (U1026, 1.1811291673988367)   (U1065, 1.178545649998284)\n",
              "135041  (U1005, 1.2576252965452386)  (U1135, 0.9679102131759019)\n",
              "135033   (U1022, 1.251658970110006)   (U1104, 1.161991771302326)\n",
              "132825  (U1055, 1.4697034894410455)  (U1109, 1.3067798359995597)\n",
              "135045   (U1036, 1.353433505066603)  (U1084, 1.2984149636321303)\n",
              "135058  (U1046, 1.1481226598792134)  (U1010, 1.1425679687421886)\n",
              "135062  (U1053, 1.3354427418037806)  (U1004, 1.2641213939614815)\n",
              "135081  (U1085, 1.2993366034540679)   (U1075, 1.251618939344826)\n",
              "135069  (U1018, 1.1433107542095737)  (U1124, 1.0038604585783348)\n",
              "135047  (U1053, 1.2352242007329324)  (U1104, 0.9822901585079021)\n",
              "132834  (U1137, 1.3010121512694997)  (U1104, 1.0208171790786447)\n",
              "135042  (U1016, 1.4158462480673355)  (U1064, 1.2348737096631461)\n",
              "134975  (U1133, 1.2461743324242485)  (U1017, 1.0741044367672306)\n",
              "132921  (U1061, 1.3772477639443554)  (U1033, 1.2831344895955927)\n",
              "134996  (U1042, 1.2553260967340638)  (U1030, 1.1539421097177227)\n",
              "135028  (U1132, 1.4507389847073846)  (U1089, 1.1099746544258209)\n",
              "135053  (U1053, 1.3530533826999422)  (U1062, 1.0269949515978316)\n",
              "135065    (U1122, 1.19192053298828)  (U1114, 0.9341834837685769)\n",
              "135108  (U1088, 1.2322881140525956)  (U1018, 1.1534666170606998)\n",
              "135064   (U1045, 1.211651679003422)   (U1010, 1.132698932822473)\n",
              "135034   (U1083, 1.376121175795575)  (U1097, 1.3644974362536466)\n",
              "135076  (U1056, 1.4449875473017906)  (U1099, 1.1391807529612699)\n",
              "135075   (U1108, 1.441279495094493)  (U1091, 1.2687281452879728)"
            ]
          },
          "metadata": {},
          "execution_count": 97
        }
      ]
    },
    {
      "cell_type": "code",
      "source": [
        "def get_predictions(place_id):\n",
        "    results = tmp_transpose.loc[str(place_id)]\n",
        "    return results\n",
        "\n",
        "for values in visitedrestaurantID.values:\n",
        "  results = get_predictions(values)\n",
        "\n",
        "results"
      ],
      "metadata": {
        "colab": {
          "base_uri": "https://localhost:8080/",
          "height": 502
        },
        "id": "y235lfSzxY5P",
        "outputId": "eda8f2ed-7698-4ee2-b0cc-71586e8a551f"
      },
      "execution_count": null,
      "outputs": [
        {
          "output_type": "error",
          "ename": "KeyError",
          "evalue": "ignored",
          "traceback": [
            "\u001b[0;31m---------------------------------------------------------------------------\u001b[0m",
            "\u001b[0;31mKeyError\u001b[0m                                  Traceback (most recent call last)",
            "\u001b[0;32m/usr/local/lib/python3.7/dist-packages/pandas/core/indexes/base.py\u001b[0m in \u001b[0;36mget_loc\u001b[0;34m(self, key, method, tolerance)\u001b[0m\n\u001b[1;32m   3360\u001b[0m             \u001b[0;32mtry\u001b[0m\u001b[0;34m:\u001b[0m\u001b[0;34m\u001b[0m\u001b[0;34m\u001b[0m\u001b[0m\n\u001b[0;32m-> 3361\u001b[0;31m                 \u001b[0;32mreturn\u001b[0m \u001b[0mself\u001b[0m\u001b[0;34m.\u001b[0m\u001b[0m_engine\u001b[0m\u001b[0;34m.\u001b[0m\u001b[0mget_loc\u001b[0m\u001b[0;34m(\u001b[0m\u001b[0mcasted_key\u001b[0m\u001b[0;34m)\u001b[0m\u001b[0;34m\u001b[0m\u001b[0;34m\u001b[0m\u001b[0m\n\u001b[0m\u001b[1;32m   3362\u001b[0m             \u001b[0;32mexcept\u001b[0m \u001b[0mKeyError\u001b[0m \u001b[0;32mas\u001b[0m \u001b[0merr\u001b[0m\u001b[0;34m:\u001b[0m\u001b[0;34m\u001b[0m\u001b[0;34m\u001b[0m\u001b[0m\n",
            "\u001b[0;32m/usr/local/lib/python3.7/dist-packages/pandas/_libs/index.pyx\u001b[0m in \u001b[0;36mpandas._libs.index.IndexEngine.get_loc\u001b[0;34m()\u001b[0m\n",
            "\u001b[0;32mpandas/_libs/index_class_helper.pxi\u001b[0m in \u001b[0;36mpandas._libs.index.Int64Engine._check_type\u001b[0;34m()\u001b[0m\n",
            "\u001b[0;32mpandas/_libs/index_class_helper.pxi\u001b[0m in \u001b[0;36mpandas._libs.index.Int64Engine._check_type\u001b[0;34m()\u001b[0m\n",
            "\u001b[0;31mKeyError\u001b[0m: '132667'",
            "\nThe above exception was the direct cause of the following exception:\n",
            "\u001b[0;31mKeyError\u001b[0m                                  Traceback (most recent call last)",
            "\u001b[0;32m<ipython-input-101-dd8fbe551f52>\u001b[0m in \u001b[0;36m<module>\u001b[0;34m()\u001b[0m\n\u001b[1;32m      4\u001b[0m \u001b[0;34m\u001b[0m\u001b[0m\n\u001b[1;32m      5\u001b[0m \u001b[0;32mfor\u001b[0m \u001b[0mvalues\u001b[0m \u001b[0;32min\u001b[0m \u001b[0mvisitedrestaurantID\u001b[0m\u001b[0;34m.\u001b[0m\u001b[0mvalues\u001b[0m\u001b[0;34m:\u001b[0m\u001b[0;34m\u001b[0m\u001b[0;34m\u001b[0m\u001b[0m\n\u001b[0;32m----> 6\u001b[0;31m   \u001b[0mresults\u001b[0m \u001b[0;34m=\u001b[0m \u001b[0mget_predictions\u001b[0m\u001b[0;34m(\u001b[0m\u001b[0mvalues\u001b[0m\u001b[0;34m)\u001b[0m\u001b[0;34m\u001b[0m\u001b[0;34m\u001b[0m\u001b[0m\n\u001b[0m\u001b[1;32m      7\u001b[0m \u001b[0;34m\u001b[0m\u001b[0m\n\u001b[1;32m      8\u001b[0m \u001b[0mresults\u001b[0m\u001b[0;34m\u001b[0m\u001b[0;34m\u001b[0m\u001b[0m\n",
            "\u001b[0;32m<ipython-input-101-dd8fbe551f52>\u001b[0m in \u001b[0;36mget_predictions\u001b[0;34m(place_id)\u001b[0m\n\u001b[1;32m      1\u001b[0m \u001b[0;32mdef\u001b[0m \u001b[0mget_predictions\u001b[0m\u001b[0;34m(\u001b[0m\u001b[0mplace_id\u001b[0m\u001b[0;34m)\u001b[0m\u001b[0;34m:\u001b[0m\u001b[0;34m\u001b[0m\u001b[0;34m\u001b[0m\u001b[0m\n\u001b[0;32m----> 2\u001b[0;31m     \u001b[0mresults\u001b[0m \u001b[0;34m=\u001b[0m \u001b[0mtmp_transpose\u001b[0m\u001b[0;34m.\u001b[0m\u001b[0mloc\u001b[0m\u001b[0;34m[\u001b[0m\u001b[0mstr\u001b[0m\u001b[0;34m(\u001b[0m\u001b[0mplace_id\u001b[0m\u001b[0;34m)\u001b[0m\u001b[0;34m]\u001b[0m\u001b[0;34m\u001b[0m\u001b[0;34m\u001b[0m\u001b[0m\n\u001b[0m\u001b[1;32m      3\u001b[0m     \u001b[0;32mreturn\u001b[0m \u001b[0mresults\u001b[0m\u001b[0;34m\u001b[0m\u001b[0;34m\u001b[0m\u001b[0m\n\u001b[1;32m      4\u001b[0m \u001b[0;34m\u001b[0m\u001b[0m\n\u001b[1;32m      5\u001b[0m \u001b[0;32mfor\u001b[0m \u001b[0mvalues\u001b[0m \u001b[0;32min\u001b[0m \u001b[0mvisitedrestaurantID\u001b[0m\u001b[0;34m.\u001b[0m\u001b[0mvalues\u001b[0m\u001b[0;34m:\u001b[0m\u001b[0;34m\u001b[0m\u001b[0;34m\u001b[0m\u001b[0m\n",
            "\u001b[0;32m/usr/local/lib/python3.7/dist-packages/pandas/core/indexing.py\u001b[0m in \u001b[0;36m__getitem__\u001b[0;34m(self, key)\u001b[0m\n\u001b[1;32m    929\u001b[0m \u001b[0;34m\u001b[0m\u001b[0m\n\u001b[1;32m    930\u001b[0m             \u001b[0mmaybe_callable\u001b[0m \u001b[0;34m=\u001b[0m \u001b[0mcom\u001b[0m\u001b[0;34m.\u001b[0m\u001b[0mapply_if_callable\u001b[0m\u001b[0;34m(\u001b[0m\u001b[0mkey\u001b[0m\u001b[0;34m,\u001b[0m \u001b[0mself\u001b[0m\u001b[0;34m.\u001b[0m\u001b[0mobj\u001b[0m\u001b[0;34m)\u001b[0m\u001b[0;34m\u001b[0m\u001b[0;34m\u001b[0m\u001b[0m\n\u001b[0;32m--> 931\u001b[0;31m             \u001b[0;32mreturn\u001b[0m \u001b[0mself\u001b[0m\u001b[0;34m.\u001b[0m\u001b[0m_getitem_axis\u001b[0m\u001b[0;34m(\u001b[0m\u001b[0mmaybe_callable\u001b[0m\u001b[0;34m,\u001b[0m \u001b[0maxis\u001b[0m\u001b[0;34m=\u001b[0m\u001b[0maxis\u001b[0m\u001b[0;34m)\u001b[0m\u001b[0;34m\u001b[0m\u001b[0;34m\u001b[0m\u001b[0m\n\u001b[0m\u001b[1;32m    932\u001b[0m \u001b[0;34m\u001b[0m\u001b[0m\n\u001b[1;32m    933\u001b[0m     \u001b[0;32mdef\u001b[0m \u001b[0m_is_scalar_access\u001b[0m\u001b[0;34m(\u001b[0m\u001b[0mself\u001b[0m\u001b[0;34m,\u001b[0m \u001b[0mkey\u001b[0m\u001b[0;34m:\u001b[0m \u001b[0mtuple\u001b[0m\u001b[0;34m)\u001b[0m\u001b[0;34m:\u001b[0m\u001b[0;34m\u001b[0m\u001b[0;34m\u001b[0m\u001b[0m\n",
            "\u001b[0;32m/usr/local/lib/python3.7/dist-packages/pandas/core/indexing.py\u001b[0m in \u001b[0;36m_getitem_axis\u001b[0;34m(self, key, axis)\u001b[0m\n\u001b[1;32m   1162\u001b[0m         \u001b[0;31m# fall thru to straight lookup\u001b[0m\u001b[0;34m\u001b[0m\u001b[0;34m\u001b[0m\u001b[0;34m\u001b[0m\u001b[0m\n\u001b[1;32m   1163\u001b[0m         \u001b[0mself\u001b[0m\u001b[0;34m.\u001b[0m\u001b[0m_validate_key\u001b[0m\u001b[0;34m(\u001b[0m\u001b[0mkey\u001b[0m\u001b[0;34m,\u001b[0m \u001b[0maxis\u001b[0m\u001b[0;34m)\u001b[0m\u001b[0;34m\u001b[0m\u001b[0;34m\u001b[0m\u001b[0m\n\u001b[0;32m-> 1164\u001b[0;31m         \u001b[0;32mreturn\u001b[0m \u001b[0mself\u001b[0m\u001b[0;34m.\u001b[0m\u001b[0m_get_label\u001b[0m\u001b[0;34m(\u001b[0m\u001b[0mkey\u001b[0m\u001b[0;34m,\u001b[0m \u001b[0maxis\u001b[0m\u001b[0;34m=\u001b[0m\u001b[0maxis\u001b[0m\u001b[0;34m)\u001b[0m\u001b[0;34m\u001b[0m\u001b[0;34m\u001b[0m\u001b[0m\n\u001b[0m\u001b[1;32m   1165\u001b[0m \u001b[0;34m\u001b[0m\u001b[0m\n\u001b[1;32m   1166\u001b[0m     \u001b[0;32mdef\u001b[0m \u001b[0m_get_slice_axis\u001b[0m\u001b[0;34m(\u001b[0m\u001b[0mself\u001b[0m\u001b[0;34m,\u001b[0m \u001b[0mslice_obj\u001b[0m\u001b[0;34m:\u001b[0m \u001b[0mslice\u001b[0m\u001b[0;34m,\u001b[0m \u001b[0maxis\u001b[0m\u001b[0;34m:\u001b[0m \u001b[0mint\u001b[0m\u001b[0;34m)\u001b[0m\u001b[0;34m:\u001b[0m\u001b[0;34m\u001b[0m\u001b[0;34m\u001b[0m\u001b[0m\n",
            "\u001b[0;32m/usr/local/lib/python3.7/dist-packages/pandas/core/indexing.py\u001b[0m in \u001b[0;36m_get_label\u001b[0;34m(self, label, axis)\u001b[0m\n\u001b[1;32m   1111\u001b[0m     \u001b[0;32mdef\u001b[0m \u001b[0m_get_label\u001b[0m\u001b[0;34m(\u001b[0m\u001b[0mself\u001b[0m\u001b[0;34m,\u001b[0m \u001b[0mlabel\u001b[0m\u001b[0;34m,\u001b[0m \u001b[0maxis\u001b[0m\u001b[0;34m:\u001b[0m \u001b[0mint\u001b[0m\u001b[0;34m)\u001b[0m\u001b[0;34m:\u001b[0m\u001b[0;34m\u001b[0m\u001b[0;34m\u001b[0m\u001b[0m\n\u001b[1;32m   1112\u001b[0m         \u001b[0;31m# GH#5667 this will fail if the label is not present in the axis.\u001b[0m\u001b[0;34m\u001b[0m\u001b[0;34m\u001b[0m\u001b[0;34m\u001b[0m\u001b[0m\n\u001b[0;32m-> 1113\u001b[0;31m         \u001b[0;32mreturn\u001b[0m \u001b[0mself\u001b[0m\u001b[0;34m.\u001b[0m\u001b[0mobj\u001b[0m\u001b[0;34m.\u001b[0m\u001b[0mxs\u001b[0m\u001b[0;34m(\u001b[0m\u001b[0mlabel\u001b[0m\u001b[0;34m,\u001b[0m \u001b[0maxis\u001b[0m\u001b[0;34m=\u001b[0m\u001b[0maxis\u001b[0m\u001b[0;34m)\u001b[0m\u001b[0;34m\u001b[0m\u001b[0;34m\u001b[0m\u001b[0m\n\u001b[0m\u001b[1;32m   1114\u001b[0m \u001b[0;34m\u001b[0m\u001b[0m\n\u001b[1;32m   1115\u001b[0m     \u001b[0;32mdef\u001b[0m \u001b[0m_handle_lowerdim_multi_index_axis0\u001b[0m\u001b[0;34m(\u001b[0m\u001b[0mself\u001b[0m\u001b[0;34m,\u001b[0m \u001b[0mtup\u001b[0m\u001b[0;34m:\u001b[0m \u001b[0mtuple\u001b[0m\u001b[0;34m)\u001b[0m\u001b[0;34m:\u001b[0m\u001b[0;34m\u001b[0m\u001b[0;34m\u001b[0m\u001b[0m\n",
            "\u001b[0;32m/usr/local/lib/python3.7/dist-packages/pandas/core/generic.py\u001b[0m in \u001b[0;36mxs\u001b[0;34m(self, key, axis, level, drop_level)\u001b[0m\n\u001b[1;32m   3774\u001b[0m                 \u001b[0;32mraise\u001b[0m \u001b[0mTypeError\u001b[0m\u001b[0;34m(\u001b[0m\u001b[0;34mf\"Expected label or tuple of labels, got {key}\"\u001b[0m\u001b[0;34m)\u001b[0m \u001b[0;32mfrom\u001b[0m \u001b[0me\u001b[0m\u001b[0;34m\u001b[0m\u001b[0;34m\u001b[0m\u001b[0m\n\u001b[1;32m   3775\u001b[0m         \u001b[0;32melse\u001b[0m\u001b[0;34m:\u001b[0m\u001b[0;34m\u001b[0m\u001b[0;34m\u001b[0m\u001b[0m\n\u001b[0;32m-> 3776\u001b[0;31m             \u001b[0mloc\u001b[0m \u001b[0;34m=\u001b[0m \u001b[0mindex\u001b[0m\u001b[0;34m.\u001b[0m\u001b[0mget_loc\u001b[0m\u001b[0;34m(\u001b[0m\u001b[0mkey\u001b[0m\u001b[0;34m)\u001b[0m\u001b[0;34m\u001b[0m\u001b[0;34m\u001b[0m\u001b[0m\n\u001b[0m\u001b[1;32m   3777\u001b[0m \u001b[0;34m\u001b[0m\u001b[0m\n\u001b[1;32m   3778\u001b[0m             \u001b[0;32mif\u001b[0m \u001b[0misinstance\u001b[0m\u001b[0;34m(\u001b[0m\u001b[0mloc\u001b[0m\u001b[0;34m,\u001b[0m \u001b[0mnp\u001b[0m\u001b[0;34m.\u001b[0m\u001b[0mndarray\u001b[0m\u001b[0;34m)\u001b[0m\u001b[0;34m:\u001b[0m\u001b[0;34m\u001b[0m\u001b[0;34m\u001b[0m\u001b[0m\n",
            "\u001b[0;32m/usr/local/lib/python3.7/dist-packages/pandas/core/indexes/base.py\u001b[0m in \u001b[0;36mget_loc\u001b[0;34m(self, key, method, tolerance)\u001b[0m\n\u001b[1;32m   3361\u001b[0m                 \u001b[0;32mreturn\u001b[0m \u001b[0mself\u001b[0m\u001b[0;34m.\u001b[0m\u001b[0m_engine\u001b[0m\u001b[0;34m.\u001b[0m\u001b[0mget_loc\u001b[0m\u001b[0;34m(\u001b[0m\u001b[0mcasted_key\u001b[0m\u001b[0;34m)\u001b[0m\u001b[0;34m\u001b[0m\u001b[0;34m\u001b[0m\u001b[0m\n\u001b[1;32m   3362\u001b[0m             \u001b[0;32mexcept\u001b[0m \u001b[0mKeyError\u001b[0m \u001b[0;32mas\u001b[0m \u001b[0merr\u001b[0m\u001b[0;34m:\u001b[0m\u001b[0;34m\u001b[0m\u001b[0;34m\u001b[0m\u001b[0m\n\u001b[0;32m-> 3363\u001b[0;31m                 \u001b[0;32mraise\u001b[0m \u001b[0mKeyError\u001b[0m\u001b[0;34m(\u001b[0m\u001b[0mkey\u001b[0m\u001b[0;34m)\u001b[0m \u001b[0;32mfrom\u001b[0m \u001b[0merr\u001b[0m\u001b[0;34m\u001b[0m\u001b[0;34m\u001b[0m\u001b[0m\n\u001b[0m\u001b[1;32m   3364\u001b[0m \u001b[0;34m\u001b[0m\u001b[0m\n\u001b[1;32m   3365\u001b[0m         \u001b[0;32mif\u001b[0m \u001b[0mis_scalar\u001b[0m\u001b[0;34m(\u001b[0m\u001b[0mkey\u001b[0m\u001b[0;34m)\u001b[0m \u001b[0;32mand\u001b[0m \u001b[0misna\u001b[0m\u001b[0;34m(\u001b[0m\u001b[0mkey\u001b[0m\u001b[0;34m)\u001b[0m \u001b[0;32mand\u001b[0m \u001b[0;32mnot\u001b[0m \u001b[0mself\u001b[0m\u001b[0;34m.\u001b[0m\u001b[0mhasnans\u001b[0m\u001b[0;34m:\u001b[0m\u001b[0;34m\u001b[0m\u001b[0;34m\u001b[0m\u001b[0m\n",
            "\u001b[0;31mKeyError\u001b[0m: '132667'"
          ]
        }
      ]
    },
    {
      "cell_type": "code",
      "source": [
        ""
      ],
      "metadata": {
        "id": "Ycfpri3KyLhv"
      },
      "execution_count": null,
      "outputs": []
    }
  ]
}